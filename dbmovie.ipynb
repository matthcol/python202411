{
 "cells": [
  {
   "cell_type": "markdown",
   "id": "93fdecd6-a27d-488b-91ee-ed7f81734f6a",
   "metadata": {},
   "source": [
    "# Database\n",
    "- driver low level: psycopg2, cx_oracle, mssqlserver, ..."
   ]
  },
  {
   "cell_type": "code",
   "execution_count": 2,
   "id": "b05c4098-81d7-44be-817d-6cce5eb816b5",
   "metadata": {},
   "outputs": [],
   "source": [
    "import psycopg2 as pg"
   ]
  },
  {
   "cell_type": "code",
   "execution_count": 4,
   "id": "b3ac2dfa-e96d-4e4b-a4f5-929b01702fad",
   "metadata": {},
   "outputs": [],
   "source": [
    "host = 'localhost'\n",
    "port = 5432\n",
    "dbname = 'dbmovie'\n",
    "user = 'movie'\n",
    "password = 'password'\n",
    "\n",
    "url = f\"host={host} port={port} dbname={dbname} user={user} password={password}\""
   ]
  },
  {
   "cell_type": "code",
   "execution_count": 80,
   "id": "fd0533e8-45c2-4a1e-8346-02ca6c0e8ebe",
   "metadata": {},
   "outputs": [
    {
     "data": {
      "text/plain": [
       "<connection object at 0x00000137842C68A0; dsn: 'user=movie password=xxx dbname=dbmovie host=localhost port=5432', closed: 0>"
      ]
     },
     "execution_count": 80,
     "metadata": {},
     "output_type": "execute_result"
    }
   ],
   "source": [
    "conn = pg.connect(url)\n",
    "conn"
   ]
  },
  {
   "cell_type": "code",
   "execution_count": 82,
   "id": "dc13dfb9-e7bb-4db4-9809-0c2254a127a4",
   "metadata": {},
   "outputs": [],
   "source": [
    "sql = \"\"\"\n",
    "select \n",
    "    m.title, m.year, m.duration,\n",
    "    d.name\n",
    "from \n",
    "    movie m\n",
    "    join person d on m.director_id = d.id\n",
    "where \n",
    "    m.year between %s and %s\n",
    "    and d.name = %s\n",
    "order by m.year\n",
    "\"\"\""
   ]
  },
  {
   "cell_type": "code",
   "execution_count": 84,
   "id": "1ebca911-d356-4f6f-a41d-5795d363acd4",
   "metadata": {},
   "outputs": [],
   "source": [
    "cur = conn.cursor()"
   ]
  },
  {
   "cell_type": "code",
   "execution_count": 86,
   "id": "3f663f46-8a39-4687-8b16-ab03c06396ef",
   "metadata": {},
   "outputs": [],
   "source": [
    "cur.execute(sql, (1980, 2000, 'Clint Eastwood'))"
   ]
  },
  {
   "cell_type": "code",
   "execution_count": 88,
   "id": "6c8e9c5e-385f-49d7-9aff-1d240dda363f",
   "metadata": {},
   "outputs": [],
   "source": [
    "movies = list(cur)"
   ]
  },
  {
   "cell_type": "code",
   "execution_count": 90,
   "id": "502e1d4d-0469-47cc-b10c-bac6c773f6b6",
   "metadata": {},
   "outputs": [
    {
     "name": "stdout",
     "output_type": "stream",
     "text": [
      "('Bronco Billy', 1980, 116, 'Clint Eastwood')\n",
      "('Firefox', 1982, 136, 'Clint Eastwood')\n",
      "('Honkytonk Man', 1982, 122, 'Clint Eastwood')\n",
      "('Sudden Impact', 1983, 117, 'Clint Eastwood')\n",
      "('Pale Rider', 1985, 115, 'Clint Eastwood')\n",
      "('Heartbreak Ridge', 1986, 130, 'Clint Eastwood')\n",
      "('Bird', 1988, 161, 'Clint Eastwood')\n",
      "('The Rookie', 1990, 120, 'Clint Eastwood')\n",
      "('White Hunter Black Heart', 1990, 112, 'Clint Eastwood')\n",
      "('Unforgiven', 1992, 130, 'Clint Eastwood')\n",
      "('A Perfect World', 1993, 138, 'Clint Eastwood')\n",
      "('The Bridges of Madison County', 1995, 135, 'Clint Eastwood')\n",
      "('Absolute Power', 1997, 121, 'Clint Eastwood')\n",
      "('Midnight in the Garden of Good and Evil', 1997, 155, 'Clint Eastwood')\n",
      "('True Crime', 1999, 127, 'Clint Eastwood')\n",
      "('Space Cowboys', 2000, 130, 'Clint Eastwood')\n"
     ]
    }
   ],
   "source": [
    "for m in movies:\n",
    "    print(m)"
   ]
  },
  {
   "cell_type": "code",
   "execution_count": 92,
   "id": "d1c1d24a-78a0-48eb-a5df-088debb7600a",
   "metadata": {},
   "outputs": [],
   "source": [
    "cur.close()\n",
    "conn.close()"
   ]
  },
  {
   "cell_type": "code",
   "execution_count": null,
   "id": "b8ce1df3-6b9d-4e49-9aac-92342515432c",
   "metadata": {},
   "outputs": [],
   "source": []
  }
 ],
 "metadata": {
  "kernelspec": {
   "display_name": "Python 3 (ipykernel)",
   "language": "python",
   "name": "python3"
  },
  "language_info": {
   "codemirror_mode": {
    "name": "ipython",
    "version": 3
   },
   "file_extension": ".py",
   "mimetype": "text/x-python",
   "name": "python",
   "nbconvert_exporter": "python",
   "pygments_lexer": "ipython3",
   "version": "3.12.3"
  }
 },
 "nbformat": 4,
 "nbformat_minor": 5
}
