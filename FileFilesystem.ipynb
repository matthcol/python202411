{
 "cells": [
  {
   "cell_type": "markdown",
   "id": "73096f27-c950-4347-935a-66f8b15bfc59",
   "metadata": {},
   "source": [
    "# Files, FileSystem\n",
    "- general, basics\n",
    "    - open (builtin)\n",
    "    - pathlib (oop module to handle a filesystem)\n",
    "    - os.path (oldschool module to handle a filesystem)\n",
    "    - shutil (copy, delete (recursive))\n",
    "- specific or high level\n",
    "    - json\n",
    "    - csv\n",
    "    - lxml, BeautifulSoup\n",
    "    - pandas  "
   ]
  },
  {
   "cell_type": "code",
   "execution_count": 98,
   "id": "5a778b16-361b-4830-a58e-43c1f10f24a2",
   "metadata": {},
   "outputs": [],
   "source": [
    "import json\n",
    "from pathlib import Path\n",
    "import shutil\n",
    "from datetime import datetime"
   ]
  },
  {
   "cell_type": "code",
   "execution_count": 12,
   "id": "c0aadcb0-cffb-421c-a46d-dbc164f533fd",
   "metadata": {},
   "outputs": [
    {
     "data": {
      "text/plain": [
       "<_io.TextIOWrapper name='data/cities.csv' mode='r' encoding='UTF-8'>"
      ]
     },
     "execution_count": 12,
     "metadata": {},
     "output_type": "execute_result"
    }
   ],
   "source": [
    "f = open('data/cities.csv', encoding='UTF-8')\n",
    "f"
   ]
  },
  {
   "cell_type": "code",
   "execution_count": 14,
   "id": "b7e0b63f-e46b-4303-a78f-6bbf69ff6bd5",
   "metadata": {},
   "outputs": [
    {
     "data": {
      "text/plain": [
       "['insee_code,city_code,zip_code,label,latitude,longitude,department_name,department_number,region_name,region_geojson_name\\n',\n",
       " '25620,ville du pont,25650,ville du pont,46.999873398,6.498147193,doubs,25,bourgogne-franche-comté,Bourgogne-Franche-Comté\\n',\n",
       " '25624,villers grelot,25640,villers grelot,47.361512085,6.235167025,doubs,25,bourgogne-franche-comté,Bourgogne-Franche-Comté\\n',\n",
       " '25615,villars les blamont,25310,villars les blamont,47.368383721,6.871414913,doubs,25,bourgogne-franche-comté,Bourgogne-Franche-Comté\\n',\n",
       " '25619,les villedieu,25240,les villedieu,46.713906258,6.26583065,doubs,25,bourgogne-franche-comté,Bourgogne-Franche-Comté\\n']"
      ]
     },
     "execution_count": 14,
     "metadata": {},
     "output_type": "execute_result"
    }
   ],
   "source": [
    "data = list(f)\n",
    "data[:5]"
   ]
  },
  {
   "cell_type": "code",
   "execution_count": 16,
   "id": "a8cd7eaf-4fb8-4c10-adfe-8a04adeaa9d5",
   "metadata": {},
   "outputs": [],
   "source": [
    "f.close()"
   ]
  },
  {
   "cell_type": "code",
   "execution_count": 20,
   "id": "7833647f-3b3d-4110-a337-96acba1db9fd",
   "metadata": {},
   "outputs": [
    {
     "name": "stdout",
     "output_type": "stream",
     "text": [
      "['insee_code,city_code,zip_code,label,latitude,longitude,department_name,department_number,region_name,region_geojson_name\\n', '25620,ville du pont,25650,ville du pont,46.999873398,6.498147193,doubs,25,bourgogne-franche-comté,Bourgogne-Franche-Comté\\n', '25624,villers grelot,25640,villers grelot,47.361512085,6.235167025,doubs,25,bourgogne-franche-comté,Bourgogne-Franche-Comté\\n', '25615,villars les blamont,25310,villars les blamont,47.368383721,6.871414913,doubs,25,bourgogne-franche-comté,Bourgogne-Franche-Comté\\n', '25619,les villedieu,25240,les villedieu,46.713906258,6.26583065,doubs,25,bourgogne-franche-comté,Bourgogne-Franche-Comté\\n']\n"
     ]
    }
   ],
   "source": [
    "with open('data/cities.csv', encoding='UTF-8') as f:\n",
    "    data = list(f)\n",
    "# autoclose here\n",
    "print(data[:5])"
   ]
  },
  {
   "cell_type": "code",
   "execution_count": 26,
   "id": "69a906e9-0ba0-46f1-a946-ba71a089c6d8",
   "metadata": {},
   "outputs": [
    {
     "name": "stdout",
     "output_type": "stream",
     "text": [
      "['insee_code,city_code,zip_code,label,latitude,longitude,department_name,department_number,region_name,region_geojson_name\\n', '25620,ville du pont,25650,ville du pont,46.999873398,6.498147193,doubs,25,bourgogne-franche-comté,Bourgogne-Franche-Comté\\n', '25624,villers grelot,25640,villers grelot,47.361512085,6.235167025,doubs,25,bourgogne-franche-comté,Bourgogne-Franche-Comté\\n', '25615,villars les blamont,25310,villars les blamont,47.368383721,6.871414913,doubs,25,bourgogne-franche-comté,Bourgogne-Franche-Comté\\n', '25619,les villedieu,25240,les villedieu,46.713906258,6.26583065,doubs,25,bourgogne-franche-comté,Bourgogne-Franche-Comté\\n']\n"
     ]
    }
   ],
   "source": [
    "with open('data\\\\cities.csv', encoding='UTF-8') as f:\n",
    "    data2 = list(f)\n",
    "# autoclose here\n",
    "print(data2[:5])"
   ]
  },
  {
   "cell_type": "code",
   "execution_count": 42,
   "id": "2fbf19b6-1cca-47f3-9565-26d6a66ca1b9",
   "metadata": {},
   "outputs": [],
   "source": [
    "city = { 'name': 'Toulouse', 'population': 477000 }\n",
    "with open('data/city.json', mode='w', encoding='UTF-8') as f:\n",
    "    json.dump(city, f)\n",
    "# file is flushed and closed here"
   ]
  },
  {
   "cell_type": "markdown",
   "id": "25d56c8d-0105-41bc-9ec9-99b51dd41601",
   "metadata": {},
   "source": [
    "## Manage filesystem with pathlib"
   ]
  },
  {
   "cell_type": "code",
   "execution_count": 47,
   "id": "08ef4dc9-5d50-4f91-a7a9-6c53a6926604",
   "metadata": {},
   "outputs": [
    {
     "data": {
      "text/plain": [
       "WindowsPath('.')"
      ]
     },
     "execution_count": 47,
     "metadata": {},
     "output_type": "execute_result"
    }
   ],
   "source": [
    "current_dir = Path('.')\n",
    "current_dir"
   ]
  },
  {
   "cell_type": "code",
   "execution_count": 51,
   "id": "82d1533e-a44b-4ac0-85f2-a5fd9d104a5d",
   "metadata": {},
   "outputs": [
    {
     "data": {
      "text/plain": [
       "WindowsPath('C:/Users/matth/Documents/Formation/Python/Stage202411')"
      ]
     },
     "execution_count": 51,
     "metadata": {},
     "output_type": "execute_result"
    }
   ],
   "source": [
    "my_dir = current_dir.absolute()\n",
    "my_dir"
   ]
  },
  {
   "cell_type": "code",
   "execution_count": 55,
   "id": "efdc07b3-1d7c-48b6-8752-1f3933602d46",
   "metadata": {},
   "outputs": [
    {
     "data": {
      "text/plain": [
       "True"
      ]
     },
     "execution_count": 55,
     "metadata": {},
     "output_type": "execute_result"
    }
   ],
   "source": [
    "isinstance(my_dir, Path)"
   ]
  },
  {
   "cell_type": "code",
   "execution_count": 57,
   "id": "580caa59-adc3-4be1-b54a-401bc8bea446",
   "metadata": {},
   "outputs": [
    {
     "data": {
      "text/plain": [
       "pathlib.WindowsPath"
      ]
     },
     "execution_count": 57,
     "metadata": {},
     "output_type": "execute_result"
    }
   ],
   "source": [
    "type(my_dir)"
   ]
  },
  {
   "cell_type": "code",
   "execution_count": 60,
   "id": "62a48e7b-3e9f-435a-b873-9ad28803ef68",
   "metadata": {},
   "outputs": [
    {
     "data": {
      "text/plain": [
       "WindowsPath('C:/Users/matth/Documents/Formation/Python')"
      ]
     },
     "execution_count": 60,
     "metadata": {},
     "output_type": "execute_result"
    }
   ],
   "source": [
    "my_dir.parent"
   ]
  },
  {
   "cell_type": "code",
   "execution_count": 68,
   "id": "675e3d81-327c-4d4a-b43b-fd49b3263769",
   "metadata": {},
   "outputs": [
    {
     "name": "stdout",
     "output_type": "stream",
     "text": [
      "C:\\Users\\matth\\Documents\\Formation\\Python\n",
      "C:\\Users\\matth\\Documents\\Formation\n",
      "C:\\Users\\matth\\Documents\n",
      "C:\\Users\\matth\n",
      "C:\\Users\n",
      "C:\\\n"
     ]
    }
   ],
   "source": [
    "for ancester in my_dir.parents:\n",
    "    print(ancester)"
   ]
  },
  {
   "cell_type": "code",
   "execution_count": 86,
   "id": "2567cb24-1fe1-4be4-9f42-0450ba73412c",
   "metadata": {},
   "outputs": [
    {
     "name": "stdout",
     "output_type": "stream",
     "text": [
      "* C:\\Users\\matth\\Documents\\Formation\\Python\\Stage202411\\.git\n",
      "\t- is a directory: True\n",
      "\t- is a regular file: False\n",
      "\t- size: 4096\n",
      "\t- last modifed: 2024-12-05 10:20:43.240155\n",
      "* C:\\Users\\matth\\Documents\\Formation\\Python\\Stage202411\\.gitignore\n",
      "\t- is a directory: False\n",
      "\t- is a regular file: True\n",
      "\t- size: 94\n",
      "\t- last modifed: 2024-12-03 13:12:08.537911\n",
      "* C:\\Users\\matth\\Documents\\Formation\\Python\\Stage202411\\.ipynb_checkpoints\n",
      "\t- is a directory: True\n",
      "\t- is a regular file: False\n",
      "\t- size: 4096\n",
      "\t- last modifed: 2024-12-05 14:45:24.427371\n",
      "* C:\\Users\\matth\\Documents\\Formation\\Python\\Stage202411\\.mypy_cache\n",
      "\t- is a directory: True\n",
      "\t- is a regular file: False\n",
      "\t- size: 0\n",
      "\t- last modifed: 2024-12-02 10:14:08.112272\n",
      "* C:\\Users\\matth\\Documents\\Formation\\Python\\Stage202411\\.virtual_documents\n",
      "\t- is a directory: True\n",
      "\t- is a regular file: False\n",
      "\t- size: 4096\n",
      "\t- last modifed: 2024-12-05 14:44:57.261229\n",
      "* C:\\Users\\matth\\Documents\\Formation\\Python\\Stage202411\\Basics.ipynb\n",
      "\t- is a directory: False\n",
      "\t- is a regular file: True\n",
      "\t- size: 41137\n",
      "\t- last modifed: 2024-12-03 13:37:18.276753\n",
      "* C:\\Users\\matth\\Documents\\Formation\\Python\\Stage202411\\data\n",
      "\t- is a directory: True\n",
      "\t- is a regular file: False\n",
      "\t- size: 0\n",
      "\t- last modifed: 2024-12-05 15:17:42.217554\n",
      "* C:\\Users\\matth\\Documents\\Formation\\Python\\Stage202411\\FileFilesystem.ipynb\n",
      "\t- is a directory: False\n",
      "\t- is a regular file: True\n",
      "\t- size: 12540\n",
      "\t- last modifed: 2024-12-05 16:12:49.795075\n",
      "* C:\\Users\\matth\\Documents\\Formation\\Python\\Stage202411\\FunctionIterable.ipynb\n",
      "\t- is a directory: False\n",
      "\t- is a regular file: True\n",
      "\t- size: 27765\n",
      "\t- last modifed: 2024-12-04 09:40:53.463717\n",
      "* C:\\Users\\matth\\Documents\\Formation\\Python\\Stage202411\\hello.py\n",
      "\t- is a directory: False\n",
      "\t- is a regular file: True\n",
      "\t- size: 24\n",
      "\t- last modifed: 2024-12-02 10:14:47.448486\n",
      "* C:\\Users\\matth\\Documents\\Formation\\Python\\Stage202411\\o.py\n",
      "\t- is a directory: False\n",
      "\t- is a regular file: True\n",
      "\t- size: 1370\n",
      "\t- last modifed: 2024-12-03 13:21:15.113584\n",
      "* C:\\Users\\matth\\Documents\\Formation\\Python\\Stage202411\\Oop.ipynb\n",
      "\t- is a directory: False\n",
      "\t- is a regular file: True\n",
      "\t- size: 68971\n",
      "\t- last modifed: 2024-12-05 11:46:21.172714\n",
      "* C:\\Users\\matth\\Documents\\Formation\\Python\\Stage202411\\ProjectCity\n",
      "\t- is a directory: True\n",
      "\t- is a regular file: False\n",
      "\t- size: 4096\n",
      "\t- last modifed: 2024-12-05 14:43:32.557672\n",
      "* C:\\Users\\matth\\Documents\\Formation\\Python\\Stage202411\\ProjectEuclide\n",
      "\t- is a directory: True\n",
      "\t- is a regular file: False\n",
      "\t- size: 4096\n",
      "\t- last modifed: 2024-12-03 11:18:08.141232\n",
      "* C:\\Users\\matth\\Documents\\Formation\\Python\\Stage202411\\python.svg\n",
      "\t- is a directory: False\n",
      "\t- is a regular file: True\n",
      "\t- size: 34868\n",
      "\t- last modifed: 2024-12-05 15:31:13.671594\n",
      "* C:\\Users\\matth\\Documents\\Formation\\Python\\Stage202411\\Readme.md\n",
      "\t- is a directory: False\n",
      "\t- is a regular file: True\n",
      "\t- size: 322\n",
      "\t- last modifed: 2024-12-03 13:10:52.458723\n"
     ]
    }
   ],
   "source": [
    "for f in my_dir.iterdir():\n",
    "    print(f\"* {f}\")\n",
    "    print(\"\\t- is a directory:\", f.is_dir())\n",
    "    print(\"\\t- is a regular file:\", f.is_file())\n",
    "    stats = f.stat()\n",
    "    # print(\"\\t- stats:\", stats)\n",
    "    print(\"\\t- size:\", stats.st_size)\n",
    "    dt_last_modified = datetime.fromtimestamp(stats.st_mtime)\n",
    "    print(\"\\t- last modifed:\", dt_last_modified)"
   ]
  },
  {
   "cell_type": "code",
   "execution_count": 90,
   "id": "6d3dd5c2-6ba2-4f3e-a03f-92afdb6c3798",
   "metadata": {},
   "outputs": [
    {
     "name": "stdout",
     "output_type": "stream",
     "text": [
      "hello.py\n",
      "o.py\n",
      ".ipynb_checkpoints\\hello-checkpoint.py\n",
      "ProjectCity\\city.py\n",
      "ProjectCity\\demo_add.py\n",
      "ProjectCity\\main.py\n",
      "ProjectEuclide\\euclide.py\n",
      "ProjectEuclide\\main.py\n",
      "ProjectCity\\tests\\conftest.py\n",
      "ProjectCity\\tests\\test_city.py\n",
      "ProjectCity\\tests\\__init__.py\n",
      "ProjectEuclide\\tests\\test_euclide.py\n",
      "ProjectEuclide\\tests\\__init__.py\n"
     ]
    }
   ],
   "source": [
    "for pf in current_dir.glob('**/*.py'):\n",
    "    print(pf)"
   ]
  },
  {
   "cell_type": "code",
   "execution_count": 92,
   "id": "277e4db9-5ce6-4cac-b7e5-7a26e803634f",
   "metadata": {},
   "outputs": [
    {
     "data": {
      "text/plain": [
       "WindowsPath('C:/Users/matth/Documents/Formation/Python/Stage202411/data/cities.csv')"
      ]
     },
     "execution_count": 92,
     "metadata": {},
     "output_type": "execute_result"
    }
   ],
   "source": [
    "csv_path = my_dir / 'data' / 'cities.csv'\n",
    "csv_path"
   ]
  },
  {
   "cell_type": "code",
   "execution_count": 94,
   "id": "ebccde8f-6953-4a46-9a5b-764d4a7b295b",
   "metadata": {},
   "outputs": [
    {
     "data": {
      "text/plain": [
       "True"
      ]
     },
     "execution_count": 94,
     "metadata": {},
     "output_type": "execute_result"
    }
   ],
   "source": [
    "csv_path.exists()"
   ]
  },
  {
   "cell_type": "code",
   "execution_count": 96,
   "id": "24b202e1-7f13-4f3b-ab52-d4794a2ad2b3",
   "metadata": {},
   "outputs": [
    {
     "data": {
      "text/plain": [
       "False"
      ]
     },
     "execution_count": 96,
     "metadata": {},
     "output_type": "execute_result"
    }
   ],
   "source": [
    "csv_path2 = my_dir / 'data' / 'cities2.csv'\n",
    "csv_path2.exists()"
   ]
  },
  {
   "cell_type": "code",
   "execution_count": 100,
   "id": "2da118db-8ebf-43a9-9c3f-cbdd2a2f16f6",
   "metadata": {},
   "outputs": [
    {
     "data": {
      "text/plain": [
       "True"
      ]
     },
     "execution_count": 100,
     "metadata": {},
     "output_type": "execute_result"
    }
   ],
   "source": [
    "shutil.copy(csv_path, csv_path2)\n",
    "csv_path2.exists()"
   ]
  }
 ],
 "metadata": {
  "kernelspec": {
   "display_name": "Python 3 (ipykernel)",
   "language": "python",
   "name": "python3"
  },
  "language_info": {
   "codemirror_mode": {
    "name": "ipython",
    "version": 3
   },
   "file_extension": ".py",
   "mimetype": "text/x-python",
   "name": "python",
   "nbconvert_exporter": "python",
   "pygments_lexer": "ipython3",
   "version": "3.12.3"
  }
 },
 "nbformat": 4,
 "nbformat_minor": 5
}
