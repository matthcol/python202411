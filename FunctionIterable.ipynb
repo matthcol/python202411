{
 "cells": [
  {
   "cell_type": "markdown",
   "id": "a613762b-a3a0-48e5-9173-876839800936",
   "metadata": {},
   "source": [
    "# Functions, Iterable/Iterator"
   ]
  },
  {
   "cell_type": "markdown",
   "id": "53ed2bcd-9f15-4942-bb27-4677d060695c",
   "metadata": {},
   "source": [
    "## Builtin functions"
   ]
  },
  {
   "cell_type": "code",
   "execution_count": 3,
   "id": "4418ed37-2a43-436e-973e-8bf626ddbf1f",
   "metadata": {},
   "outputs": [
    {
     "data": {
      "text/plain": [
       "111"
      ]
     },
     "execution_count": 3,
     "metadata": {},
     "output_type": "execute_result"
    }
   ],
   "source": [
    "numbers = [12, 14, 54, 31]\n",
    "s1 = sum(numbers) # a list is iterable\n",
    "s1"
   ]
  },
  {
   "cell_type": "code",
   "execution_count": 11,
   "id": "6db8c948-caf2-4dce-aae0-57eb084aae22",
   "metadata": {},
   "outputs": [
    {
     "data": {
      "text/plain": [
       "1111"
      ]
     },
     "execution_count": 11,
     "metadata": {},
     "output_type": "execute_result"
    }
   ],
   "source": [
    "# parameter 'numbers': given by position\n",
    "# parameter 'start': given by keyword\n",
    "s2 = sum(numbers, start=1000)\n",
    "s2"
   ]
  },
  {
   "cell_type": "code",
   "execution_count": 15,
   "id": "5ae443d4-c929-4dfa-a9ad-5d4d8c6884c1",
   "metadata": {},
   "outputs": [
    {
     "data": {
      "text/plain": [
       "range(0, 10)"
      ]
     },
     "execution_count": 15,
     "metadata": {},
     "output_type": "execute_result"
    }
   ],
   "source": [
    "range(10)"
   ]
  },
  {
   "cell_type": "code",
   "execution_count": 19,
   "id": "927ef6bb-183c-40e4-9b3a-82c9cad6bb12",
   "metadata": {},
   "outputs": [
    {
     "data": {
      "text/plain": [
       "45"
      ]
     },
     "execution_count": 19,
     "metadata": {},
     "output_type": "execute_result"
    }
   ],
   "source": [
    "s3 = sum(range(10))\n",
    "s3"
   ]
  },
  {
   "cell_type": "markdown",
   "id": "af09d53a-7277-4dab-8921-50aeacaaf5f8",
   "metadata": {},
   "source": [
    "__NB__: Iterable objects: tuple, list, dict, set, str, range"
   ]
  },
  {
   "cell_type": "markdown",
   "id": "06aa7607-96cf-471e-be13-7f7d9019db4e",
   "metadata": {},
   "source": [
    "## Text processing"
   ]
  },
  {
   "cell_type": "code",
   "execution_count": 27,
   "id": "4a9c9a69-1242-468e-b7ae-5354524a24e9",
   "metadata": {},
   "outputs": [
    {
     "name": "stdout",
     "output_type": "stream",
     "text": [
      "u\n",
      "n\n",
      " \n",
      "t\n",
      "e\n",
      "x\n",
      "t\n",
      "e\n",
      " \n",
      "e\n",
      "s\n",
      "t\n",
      " \n",
      "i\n",
      "t\n",
      "e\n",
      "r\n",
      "a\n",
      "b\n",
      "l\n",
      "e\n",
      ":\n",
      " \n",
      "東\n",
      "京\n",
      ",\n",
      " \n",
      "N\n",
      "a\n",
      "ī\n",
      " \n",
      "D\n",
      "i\n",
      "l\n",
      "l\n",
      "ī\n",
      ",\n",
      " \n",
      "ப\n",
      "ு\n",
      "த\n",
      "ு\n",
      "ச\n",
      "்\n",
      "ச\n",
      "ே\n",
      "ர\n",
      "ி\n"
     ]
    }
   ],
   "source": [
    "for letter in 'un texte est iterable: 東京, Naī Dillī, புதுச்சேரி':\n",
    "    print(letter)"
   ]
  },
  {
   "cell_type": "code",
   "execution_count": 29,
   "id": "a30a8349-87bd-42b2-9b29-39d62e5fab1d",
   "metadata": {},
   "outputs": [
    {
     "data": {
      "text/plain": [
       "['😴', '🐵', '🌳']"
      ]
     },
     "execution_count": 29,
     "metadata": {},
     "output_type": "execute_result"
    }
   ],
   "source": [
    "text_with_emoji = '😴🐵🌳'\n",
    "list(text_with_emoji)"
   ]
  },
  {
   "cell_type": "code",
   "execution_count": 31,
   "id": "770d551d-b1c4-4e9b-9da8-e3b617e8bce3",
   "metadata": {},
   "outputs": [],
   "source": [
    "description = '1 déplacement 1,80€'"
   ]
  },
  {
   "cell_type": "code",
   "execution_count": 33,
   "id": "39777d1f-0ad8-4fcd-aa99-988530b0cb5c",
   "metadata": {},
   "outputs": [
    {
     "data": {
      "text/plain": [
       "b'1 d\\xc3\\xa9placement 1,80\\xe2\\x82\\xac'"
      ]
     },
     "execution_count": 33,
     "metadata": {},
     "output_type": "execute_result"
    }
   ],
   "source": [
    "description.encode('UTF-8')"
   ]
  },
  {
   "cell_type": "code",
   "execution_count": 37,
   "id": "a965dde4-8214-4a9a-9b4a-2e933b2f502a",
   "metadata": {},
   "outputs": [
    {
     "data": {
      "text/plain": [
       "b'1 d\\xe9placement 1,80\\x80'"
      ]
     },
     "execution_count": 37,
     "metadata": {},
     "output_type": "execute_result"
    }
   ],
   "source": [
    "description.encode('ansi') # or: cp1252"
   ]
  },
  {
   "cell_type": "code",
   "execution_count": 39,
   "id": "cddaa421-0228-4115-adad-00f892217b55",
   "metadata": {},
   "outputs": [
    {
     "data": {
      "text/plain": [
       "b'1 d\\xe9placement 1,80\\xa4'"
      ]
     },
     "execution_count": 39,
     "metadata": {},
     "output_type": "execute_result"
    }
   ],
   "source": [
    "description.encode('ISO-8859-15')"
   ]
  },
  {
   "cell_type": "code",
   "execution_count": 46,
   "id": "2fadc3fd-981d-420f-bdd4-ed7f4b853bb4",
   "metadata": {},
   "outputs": [
    {
     "data": {
      "text/plain": [
       "'1 DÉPLACEMENT 1,80€'"
      ]
     },
     "execution_count": 46,
     "metadata": {},
     "output_type": "execute_result"
    }
   ],
   "source": [
    "description.upper()"
   ]
  },
  {
   "cell_type": "code",
   "execution_count": 48,
   "id": "5c570ebb-7946-40d7-83d9-d32b16901d66",
   "metadata": {},
   "outputs": [
    {
     "data": {
      "text/plain": [
       "'1 déplacement 1,80€'"
      ]
     },
     "execution_count": 48,
     "metadata": {},
     "output_type": "execute_result"
    }
   ],
   "source": [
    "description.lower()"
   ]
  },
  {
   "cell_type": "code",
   "execution_count": 54,
   "id": "c3e7c5d0-9bb4-44fd-9317-8c2ec4853543",
   "metadata": {},
   "outputs": [
    {
     "data": {
      "text/plain": [
       "'STRASSE'"
      ]
     },
     "execution_count": 54,
     "metadata": {},
     "output_type": "execute_result"
    }
   ],
   "source": [
    "'Straße'.upper()"
   ]
  },
  {
   "cell_type": "code",
   "execution_count": 56,
   "id": "198532a4-aac7-4941-b4d1-b501dc1f5d87",
   "metadata": {},
   "outputs": [
    {
     "data": {
      "text/plain": [
       "\"saisie d'un texte avec des espaces\""
      ]
     },
     "execution_count": 56,
     "metadata": {},
     "output_type": "execute_result"
    }
   ],
   "source": [
    "' saisie d\\'un texte avec des espaces\\t\\t\\n   '.strip()"
   ]
  },
  {
   "cell_type": "code",
   "execution_count": 58,
   "id": "e5f98bec-b826-4e95-b734-a74cc05bfce9",
   "metadata": {},
   "outputs": [
    {
     "data": {
      "text/plain": [
       "['1', 'déplacement', '1,80€']"
      ]
     },
     "execution_count": 58,
     "metadata": {},
     "output_type": "execute_result"
    }
   ],
   "source": [
    "description.split()"
   ]
  },
  {
   "cell_type": "code",
   "execution_count": 62,
   "id": "c0e0f329-ba14-4401-bbf3-a38d08f07e69",
   "metadata": {},
   "outputs": [
    {
     "data": {
      "text/plain": [
       "['Toulouse', '477000', '31000']"
      ]
     },
     "execution_count": 62,
     "metadata": {},
     "output_type": "execute_result"
    }
   ],
   "source": [
    "'Toulouse,477000,31000'.split(',')"
   ]
  },
  {
   "cell_type": "code",
   "execution_count": 68,
   "id": "6f40522d-eb6c-4a5a-b947-330f8d7284ce",
   "metadata": {},
   "outputs": [],
   "source": [
    "textes = [\n",
    "    ' saisie d\\'un texte avec des espaces\\t\\t\\n   ',\n",
    "    \"j'ai fait la sieste sur clavier                      \",\n",
    "    '         ah',\n",
    "]"
   ]
  },
  {
   "cell_type": "code",
   "execution_count": 76,
   "id": "a5d7316a-1dbb-400f-ab32-8f71781be9de",
   "metadata": {},
   "outputs": [
    {
     "data": {
      "text/plain": [
       "[\"saisie d'un texte avec des espaces\", \"j'ai fait la sieste sur clavier\", 'ah']"
      ]
     },
     "execution_count": 76,
     "metadata": {},
     "output_type": "execute_result"
    }
   ],
   "source": [
    "textes2: list[str] = []\n",
    "for texte in textes:\n",
    "    textes2.append(texte.strip())\n",
    "textes2"
   ]
  },
  {
   "cell_type": "code",
   "execution_count": 82,
   "id": "c0bc1711-5f6b-45b5-86a9-fd801c4724b4",
   "metadata": {},
   "outputs": [
    {
     "data": {
      "text/plain": [
       "[\"saisie d'un texte avec des espaces\", \"j'ai fait la sieste sur clavier\", 'ah']"
      ]
     },
     "execution_count": 82,
     "metadata": {},
     "output_type": "execute_result"
    }
   ],
   "source": [
    "textes3 = [texte.strip() for texte in textes]\n",
    "textes3"
   ]
  },
  {
   "cell_type": "markdown",
   "id": "da12d0c8-e8e8-4ddc-bb82-0090b37d781e",
   "metadata": {},
   "source": [
    "## tuple et dictionaire"
   ]
  },
  {
   "cell_type": "code",
   "execution_count": 89,
   "id": "bbe9ebf5-e23f-41c1-83dd-7349c14ac97b",
   "metadata": {},
   "outputs": [],
   "source": [
    "city = ('Toulouse', 470_000, '31000') "
   ]
  },
  {
   "cell_type": "code",
   "execution_count": 93,
   "id": "bac1bc3e-b7a5-433f-a0d2-ed663b08238a",
   "metadata": {},
   "outputs": [
    {
     "data": {
      "text/plain": [
       "tuple"
      ]
     },
     "execution_count": 93,
     "metadata": {},
     "output_type": "execute_result"
    }
   ],
   "source": [
    "type(city)"
   ]
  },
  {
   "cell_type": "code",
   "execution_count": 95,
   "id": "c820cc35-5f9d-4463-9d43-48903152ca42",
   "metadata": {},
   "outputs": [
    {
     "data": {
      "text/plain": [
       "('Meillon', 943, '64510')"
      ]
     },
     "execution_count": 95,
     "metadata": {},
     "output_type": "execute_result"
    }
   ],
   "source": [
    "city2 = 'Meillon', 943, '64510'\n",
    "city2"
   ]
  },
  {
   "cell_type": "code",
   "execution_count": 99,
   "id": "2d7dbb22-a6b1-48a0-b372-ad156720c9a6",
   "metadata": {},
   "outputs": [
    {
     "data": {
      "text/plain": [
       "6"
      ]
     },
     "execution_count": 99,
     "metadata": {},
     "output_type": "execute_result"
    }
   ],
   "source": [
    "sum((1,2,3))"
   ]
  },
  {
   "cell_type": "code",
   "execution_count": 101,
   "id": "f7b66bf0-5202-4a07-896f-1c66fc2147eb",
   "metadata": {},
   "outputs": [
    {
     "data": {
      "text/plain": [
       "106"
      ]
     },
     "execution_count": 101,
     "metadata": {},
     "output_type": "execute_result"
    }
   ],
   "source": [
    "sum((1,2,3), start=100)"
   ]
  },
  {
   "cell_type": "code",
   "execution_count": 103,
   "id": "9a709f9a-4f86-4a38-84a6-0460eb692043",
   "metadata": {},
   "outputs": [
    {
     "data": {
      "text/plain": [
       "'Toulouse'"
      ]
     },
     "execution_count": 103,
     "metadata": {},
     "output_type": "execute_result"
    }
   ],
   "source": [
    "city[0]"
   ]
  },
  {
   "cell_type": "code",
   "execution_count": 105,
   "id": "3a72fce2-dd81-40eb-9d67-339fb2453939",
   "metadata": {},
   "outputs": [
    {
     "data": {
      "text/plain": [
       "('Toulouse', 470000)"
      ]
     },
     "execution_count": 105,
     "metadata": {},
     "output_type": "execute_result"
    }
   ],
   "source": [
    "city[:2]"
   ]
  },
  {
   "cell_type": "code",
   "execution_count": 109,
   "id": "98fe9b4e-d15a-4bd4-9e8e-fb3ca3cb535c",
   "metadata": {},
   "outputs": [],
   "source": [
    "#TypeError: 'tuple' object does not support item assignment\n",
    "#city[0] = 'Pau'"
   ]
  },
  {
   "cell_type": "code",
   "execution_count": 113,
   "id": "90f6c0ed-99f2-465f-9c6e-cf7f13d0cbda",
   "metadata": {},
   "outputs": [],
   "source": [
    "city = ('Pau', 77000, '64000')"
   ]
  },
  {
   "cell_type": "code",
   "execution_count": 115,
   "id": "e799cd57-7a61-45ca-8e35-65ead74f8a3c",
   "metadata": {},
   "outputs": [
    {
     "data": {
      "text/plain": [
       "['Pau', 77000, '64000']"
      ]
     },
     "execution_count": 115,
     "metadata": {},
     "output_type": "execute_result"
    }
   ],
   "source": [
    "list(city)"
   ]
  },
  {
   "cell_type": "code",
   "execution_count": 117,
   "id": "32f03f92-3bc6-4f09-9e7f-74bbeee13561",
   "metadata": {},
   "outputs": [
    {
     "data": {
      "text/plain": [
       "3"
      ]
     },
     "execution_count": 117,
     "metadata": {},
     "output_type": "execute_result"
    }
   ],
   "source": [
    "len(city)"
   ]
  },
  {
   "cell_type": "code",
   "execution_count": 119,
   "id": "cb1dcf8e-bd8b-474f-847e-067c95dc4783",
   "metadata": {},
   "outputs": [
    {
     "data": {
      "text/plain": [
       "(1, 2, 3, 4, 5, 6)"
      ]
     },
     "execution_count": 119,
     "metadata": {},
     "output_type": "execute_result"
    }
   ],
   "source": [
    "(1,2,3) + (4,5,6)"
   ]
  },
  {
   "cell_type": "code",
   "execution_count": 121,
   "id": "9805599a-98d5-4f92-88d9-9b3652815b51",
   "metadata": {},
   "outputs": [
    {
     "data": {
      "text/plain": [
       "('Toulouse', 470000, '31000')"
      ]
     },
     "execution_count": 121,
     "metadata": {},
     "output_type": "execute_result"
    }
   ],
   "source": [
    "city3: tuple[str, int, str] = ('Toulouse', 470_000, '31000')\n",
    "city3"
   ]
  },
  {
   "cell_type": "code",
   "execution_count": 129,
   "id": "071f129c-f276-449a-85cd-2c84ef596355",
   "metadata": {},
   "outputs": [
    {
     "name": "stdout",
     "output_type": "stream",
     "text": [
      "Pau\n",
      "77000\n",
      "64000\n"
     ]
    }
   ],
   "source": [
    "# unpack\n",
    "name, population, zipcode = city\n",
    "print(name)\n",
    "print(population)\n",
    "print(zipcode)"
   ]
  },
  {
   "cell_type": "code",
   "execution_count": 131,
   "id": "f624a3aa-25fc-4bf7-81e9-5b16ad9021c4",
   "metadata": {},
   "outputs": [],
   "source": [
    "cities = [\n",
    "    ('Toulouse', 470_000, '31000'),\n",
    "    ('Pau', 77000, '64000'),\n",
    "    ('Meillon', 943, '64510'),\n",
    "]"
   ]
  },
  {
   "cell_type": "code",
   "execution_count": 133,
   "id": "9eb86c68-8abf-456d-9368-ca66bfd1f1ad",
   "metadata": {},
   "outputs": [
    {
     "name": "stdout",
     "output_type": "stream",
     "text": [
      "('Toulouse', 470000, '31000')\n",
      "('Pau', 77000, '64000')\n",
      "('Meillon', 943, '64510')\n"
     ]
    }
   ],
   "source": [
    "for c in cities:\n",
    "    print(c)"
   ]
  },
  {
   "cell_type": "code",
   "execution_count": 137,
   "id": "8e5c8d6d-956d-4d31-a157-4de7a3b6f215",
   "metadata": {},
   "outputs": [
    {
     "name": "stdout",
     "output_type": "stream",
     "text": [
      "ville: Toulouse, code postal: 470000, population: 31000\n",
      "ville: Pau, code postal: 77000, population: 64000\n",
      "ville: Meillon, code postal: 943, population: 64510\n"
     ]
    }
   ],
   "source": [
    "for c in cities:\n",
    "    print(f'ville: {c[0]}, code postal: {c[1]}, population: {c[2]}')"
   ]
  },
  {
   "cell_type": "code",
   "execution_count": 151,
   "id": "59822fa3-7c53-4dbe-8952-f9f3ef3f04a2",
   "metadata": {},
   "outputs": [
    {
     "name": "stdout",
     "output_type": "stream",
     "text": [
      "ville: Toulouse, code postal: 31000, population: 470000\n",
      "ville: Pau, code postal: 64000, population: 77000\n",
      "ville: Meillon, code postal: 64510, population: 943\n"
     ]
    }
   ],
   "source": [
    "for name, population, zipcode in cities:\n",
    "    print(f'ville: {name}, code postal: {zipcode}, population: {population}')"
   ]
  },
  {
   "cell_type": "code",
   "execution_count": 143,
   "id": "12122a1a-0a25-4919-84b8-6c2acb1d809f",
   "metadata": {},
   "outputs": [
    {
     "name": "stdout",
     "output_type": "stream",
     "text": [
      "#0: ('Toulouse', 470000, '31000')\n",
      "#1: ('Pau', 77000, '64000')\n",
      "#2: ('Meillon', 943, '64510')\n"
     ]
    }
   ],
   "source": [
    "for i, c in enumerate(cities):\n",
    "    print(f\"#{i}: {c}\")"
   ]
  },
  {
   "cell_type": "code",
   "execution_count": 147,
   "id": "1206cec1-90ed-43a3-ae5d-cdef92fc82a3",
   "metadata": {},
   "outputs": [
    {
     "name": "stdout",
     "output_type": "stream",
     "text": [
      "#1: ('Toulouse', 470000, '31000')\n",
      "#2: ('Pau', 77000, '64000')\n",
      "#3: ('Meillon', 943, '64510')\n"
     ]
    }
   ],
   "source": [
    "for i, c in enumerate(cities, start=1):\n",
    "    print(f\"#{i}: {c}\")"
   ]
  },
  {
   "cell_type": "code",
   "execution_count": 149,
   "id": "3a5ab6e1-0de9-4440-8351-8e90007bcbea",
   "metadata": {},
   "outputs": [
    {
     "name": "stdout",
     "output_type": "stream",
     "text": [
      "\"#0 - ville: Toulouse, code postal: 470000, population: 31000\n",
      "\"#1 - ville: Pau, code postal: 77000, population: 64000\n",
      "\"#2 - ville: Meillon, code postal: 943, population: 64510\n"
     ]
    }
   ],
   "source": [
    "for i, (name, population, zipcode) in enumerate(cities):\n",
    "    print(f'\"#{i} - ville: {name}, code postal: {zipcode}, population: {population}')"
   ]
  },
  {
   "cell_type": "code",
   "execution_count": 159,
   "id": "0a957eb4-0759-4711-aee2-890b6777b7c1",
   "metadata": {},
   "outputs": [
    {
     "data": {
      "text/plain": [
       "[{'num': 1, 'name': 'Toulouse', 'population': 470000, 'zipcode': '31000'},\n",
       " {'num': 2, 'name': 'Pau', 'population': 77000, 'zipcode': '64000'},\n",
       " {'num': 3, 'name': 'Meillon', 'population': 943, 'zipcode': '64510'}]"
      ]
     },
     "execution_count": 159,
     "metadata": {},
     "output_type": "execute_result"
    }
   ],
   "source": [
    "cities_d = [ \n",
    "    { 'num': i, 'name': name, 'population': population, 'zipcode': zipcode } \n",
    "    for i, (name, population, zipcode) in enumerate(cities, start=1)\n",
    "]\n",
    "cities_d"
   ]
  },
  {
   "cell_type": "code",
   "execution_count": 161,
   "id": "ee20d88b-0e88-4b86-8ae4-caf7a1ff4421",
   "metadata": {},
   "outputs": [
    {
     "data": {
      "text/plain": [
       "{'num': 1, 'name': 'Toulouse', 'population': 470000, 'zipcode': '31000'}"
      ]
     },
     "execution_count": 161,
     "metadata": {},
     "output_type": "execute_result"
    }
   ],
   "source": [
    "city_d = {'num': 1, 'name': 'Toulouse', 'population': 470000, 'zipcode': '31000'}\n",
    "city_d"
   ]
  },
  {
   "cell_type": "code",
   "execution_count": 163,
   "id": "f0be49a6-6931-4e5a-a280-db9c1755d2c1",
   "metadata": {},
   "outputs": [
    {
     "data": {
      "text/plain": [
       "dict"
      ]
     },
     "execution_count": 163,
     "metadata": {},
     "output_type": "execute_result"
    }
   ],
   "source": [
    "type(city_d)"
   ]
  },
  {
   "cell_type": "code",
   "execution_count": 167,
   "id": "ac079668-9709-4fec-96f3-89d24982462a",
   "metadata": {},
   "outputs": [
    {
     "data": {
      "text/plain": [
       "'Toulouse'"
      ]
     },
     "execution_count": 167,
     "metadata": {},
     "output_type": "execute_result"
    }
   ],
   "source": [
    "city_d['name']"
   ]
  },
  {
   "cell_type": "code",
   "execution_count": 171,
   "id": "3b07ce0f-cea6-41b7-963e-2d169c30767a",
   "metadata": {},
   "outputs": [],
   "source": [
    "## KeyError: 'info'\n",
    "# city_d['info']"
   ]
  },
  {
   "cell_type": "code",
   "execution_count": 173,
   "id": "3f9aab7e-eedf-480f-b9c7-2139f9406c4f",
   "metadata": {},
   "outputs": [
    {
     "data": {
      "text/plain": [
       "{'num': 1,\n",
       " 'name': 'Toulouse',\n",
       " 'population': 470000,\n",
       " 'zipcode': '31000',\n",
       " 'info': 'il pleut'}"
      ]
     },
     "execution_count": 173,
     "metadata": {},
     "output_type": "execute_result"
    }
   ],
   "source": [
    "city_d['info'] = 'il pleut'\n",
    "city_d"
   ]
  },
  {
   "cell_type": "code",
   "execution_count": 175,
   "id": "1cfb65b7-fc26-469e-9405-e36f793169b9",
   "metadata": {},
   "outputs": [
    {
     "data": {
      "text/plain": [
       "{'num': 1,\n",
       " 'name': 'Toulouse',\n",
       " 'population': 471000,\n",
       " 'zipcode': '31000',\n",
       " 'info': 'il pleut'}"
      ]
     },
     "execution_count": 175,
     "metadata": {},
     "output_type": "execute_result"
    }
   ],
   "source": [
    "city_d['population'] += 1000\n",
    "city_d"
   ]
  },
  {
   "cell_type": "code",
   "execution_count": 177,
   "id": "76af5818-e39f-4dfe-a652-d762c641fa13",
   "metadata": {},
   "outputs": [
    {
     "data": {
      "text/plain": [
       "{'num': 1, 'name': 'Toulouse', 'population': 471000, 'zipcode': '31000'}"
      ]
     },
     "execution_count": 177,
     "metadata": {},
     "output_type": "execute_result"
    }
   ],
   "source": [
    "del city_d['info']\n",
    "city_d"
   ]
  },
  {
   "cell_type": "code",
   "execution_count": 179,
   "id": "39f98c48-b0d3-46e3-a4b1-9ffb8e441ee9",
   "metadata": {},
   "outputs": [
    {
     "name": "stdout",
     "output_type": "stream",
     "text": [
      "num\n",
      "name\n",
      "population\n",
      "zipcode\n"
     ]
    }
   ],
   "source": [
    "# iteration par défaut sur les dictionnaires: clés\n",
    "for key in city_d:\n",
    "    print(key)"
   ]
  },
  {
   "cell_type": "code",
   "execution_count": 181,
   "id": "8d7b909b-bcab-404c-ac8e-3ffdf3942755",
   "metadata": {},
   "outputs": [
    {
     "name": "stdout",
     "output_type": "stream",
     "text": [
      "num\n",
      "name\n",
      "population\n",
      "zipcode\n"
     ]
    }
   ],
   "source": [
    "for key in city_d.keys():\n",
    "    print(key)"
   ]
  },
  {
   "cell_type": "code",
   "execution_count": 183,
   "id": "68a3d593-b41a-46c8-bcd6-7ea7083fe6ea",
   "metadata": {},
   "outputs": [
    {
     "name": "stdout",
     "output_type": "stream",
     "text": [
      "1\n",
      "Toulouse\n",
      "471000\n",
      "31000\n"
     ]
    }
   ],
   "source": [
    "for value in city_d.values():\n",
    "    print(value)"
   ]
  },
  {
   "cell_type": "code",
   "execution_count": 187,
   "id": "ebae45a9-ad3b-42ef-8c1d-b870aebed4c3",
   "metadata": {},
   "outputs": [
    {
     "name": "stdout",
     "output_type": "stream",
     "text": [
      "num          -> 1\n",
      "name         -> Toulouse\n",
      "population   -> 471000\n",
      "zipcode      -> 31000\n"
     ]
    }
   ],
   "source": [
    "for key, value in city_d.items():\n",
    "    print(f'{key:<12} -> {value}')"
   ]
  },
  {
   "cell_type": "code",
   "execution_count": 193,
   "id": "7213eef8-6fd7-47e8-aab7-302bbb0fe20c",
   "metadata": {},
   "outputs": [
    {
     "data": {
      "text/plain": [
       "False"
      ]
     },
     "execution_count": 193,
     "metadata": {},
     "output_type": "execute_result"
    }
   ],
   "source": [
    "'info' in city_d"
   ]
  },
  {
   "cell_type": "code",
   "execution_count": 195,
   "id": "e3f8e346-754b-4654-bdf3-35540f89b8fb",
   "metadata": {},
   "outputs": [
    {
     "data": {
      "text/plain": [
       "True"
      ]
     },
     "execution_count": 195,
     "metadata": {},
     "output_type": "execute_result"
    }
   ],
   "source": [
    "'zipcode' in city_d"
   ]
  },
  {
   "cell_type": "code",
   "execution_count": 197,
   "id": "b2ed761f-e321-411b-98d6-109e15d1e15e",
   "metadata": {},
   "outputs": [
    {
     "data": {
      "text/plain": [
       "False"
      ]
     },
     "execution_count": 197,
     "metadata": {},
     "output_type": "execute_result"
    }
   ],
   "source": [
    "'un texte' == 123"
   ]
  },
  {
   "cell_type": "code",
   "execution_count": 201,
   "id": "56ff8bcf-a1ed-4f04-9fe1-e5be0cbb6861",
   "metadata": {},
   "outputs": [
    {
     "data": {
      "text/plain": [
       "{'title': 'Gladiator II',\n",
       " 'year': 2024,\n",
       " 'director': {'name': 'Ridley Scott', 'birthdate': '1937-11-30'},\n",
       " 'cast': [{'name': 'Pedro Pascal', 'birthdate': '1 lundi', 'role': 'Lucius'},\n",
       "  {'name': 'Denzel Washington', 'birthdate': '1 mardi', 'role': 'Macrinus'}]}"
      ]
     },
     "execution_count": 201,
     "metadata": {},
     "output_type": "execute_result"
    }
   ],
   "source": [
    "movie = {\n",
    "    'title': 'Gladiator II',\n",
    "    'year': 2024,\n",
    "    'director': {\n",
    "        'name': 'Ridley Scott',\n",
    "        'birthdate': '1937-11-30',\n",
    "    },\n",
    "    'cast': [\n",
    "        {\n",
    "            'name': 'Pedro Pascal',\n",
    "            'birthdate': '1 lundi',\n",
    "            'role': 'Lucius'\n",
    "        }, \n",
    "        {\n",
    "            'name': 'Denzel Washington',\n",
    "            'birthdate': '1 mardi',\n",
    "            'role': 'Macrinus'\n",
    "        },  \n",
    "    ]\n",
    "}\n",
    "movie    "
   ]
  },
  {
   "cell_type": "code",
   "execution_count": 205,
   "id": "fa824a52-ccdb-45fb-8520-412a5f2e7df9",
   "metadata": {},
   "outputs": [
    {
     "data": {
      "text/plain": [
       "['Lucius', 'Macrinus']"
      ]
     },
     "execution_count": 205,
     "metadata": {},
     "output_type": "execute_result"
    }
   ],
   "source": [
    "# liste des personnages (role) de ce film\n",
    "[ actor['role'] for actor in movie['cast'] ]"
   ]
  },
  {
   "cell_type": "code",
   "execution_count": 207,
   "id": "80b6c147-f0d3-408d-ba3d-c08a0f8d3eaa",
   "metadata": {},
   "outputs": [
    {
     "data": {
      "text/plain": [
       "[{'name': 'Pedro Pascal', 'birthdate': '1 lundi', 'role': 'Lucius'},\n",
       " {'name': 'Denzel Washington', 'birthdate': '1 mardi', 'role': 'Macrinus'}]"
      ]
     },
     "execution_count": 207,
     "metadata": {},
     "output_type": "execute_result"
    }
   ],
   "source": [
    "# detail\n",
    "movie['cast']"
   ]
  },
  {
   "cell_type": "code",
   "execution_count": 209,
   "id": "0a1810f1-066f-4ccf-9dc9-56d75314a056",
   "metadata": {},
   "outputs": [
    {
     "name": "stdout",
     "output_type": "stream",
     "text": [
      "{'name': 'Pedro Pascal', 'birthdate': '1 lundi', 'role': 'Lucius'}\n",
      "{'name': 'Denzel Washington', 'birthdate': '1 mardi', 'role': 'Macrinus'}\n"
     ]
    }
   ],
   "source": [
    "for actor in movie['cast']:\n",
    "    print(actor)"
   ]
  },
  {
   "cell_type": "code",
   "execution_count": 211,
   "id": "e2c6ee20-3533-473e-8dcf-3f08c58ca7a8",
   "metadata": {},
   "outputs": [
    {
     "name": "stdout",
     "output_type": "stream",
     "text": [
      "Lucius\n",
      "Macrinus\n"
     ]
    }
   ],
   "source": [
    "for actor in movie['cast']:\n",
    "    print(actor['role'])"
   ]
  }
 ],
 "metadata": {
  "kernelspec": {
   "display_name": "Python 3 (ipykernel)",
   "language": "python",
   "name": "python3"
  },
  "language_info": {
   "codemirror_mode": {
    "name": "ipython",
    "version": 3
   },
   "file_extension": ".py",
   "mimetype": "text/x-python",
   "name": "python",
   "nbconvert_exporter": "python",
   "pygments_lexer": "ipython3",
   "version": "3.12.3"
  }
 },
 "nbformat": 4,
 "nbformat_minor": 5
}
