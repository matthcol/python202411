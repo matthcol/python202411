{
 "cells": [
  {
   "cell_type": "markdown",
   "id": "13e89fcf-23b8-4797-aaef-d5f21afadba4",
   "metadata": {},
   "source": [
    "# Object Oriented Programming"
   ]
  },
  {
   "cell_type": "code",
   "execution_count": 2,
   "id": "0a64d4e7-36eb-4800-a7de-2bd69df8804e",
   "metadata": {},
   "outputs": [],
   "source": [
    "from datetime import date, datetime, time\n",
    "import pytz\n",
    "import numpy as np\n",
    "import pandas as pd\n",
    "import locale"
   ]
  },
  {
   "cell_type": "markdown",
   "id": "f1db49b9-8c39-490e-9ba5-7b710b9b0ecb",
   "metadata": {},
   "source": [
    "## Vocabulary"
   ]
  },
  {
   "cell_type": "markdown",
   "id": "9ea38f37-dd08-4c98-9762-ac9b8bcc897e",
   "metadata": {},
   "source": [
    "### object vs class\n",
    "- object: data, instance\n",
    "\n",
    "Example: \n",
    "- 'mercredi' is a text (str)\n",
    "- [1,2,3] is a list (list[int])\n",
    "\n",
    "- class: model, template, definition\n",
    "\n",
    "Example: \n",
    "- int, bool, float (since python 3.0)\n",
    "- str, list, tuple, set, dict, range\n",
    "\n",
    "  "
   ]
  },
  {
   "cell_type": "code",
   "execution_count": 5,
   "id": "342809f6-07e6-44f2-a2de-410f113fe7ec",
   "metadata": {},
   "outputs": [],
   "source": [
    "# 2 objects (instances) of class int\n",
    "x = 123\n",
    "y = 456"
   ]
  },
  {
   "cell_type": "code",
   "execution_count": 6,
   "id": "36fb4108-9f58-4185-b2de-dce8e60fbaba",
   "metadata": {},
   "outputs": [
    {
     "data": {
      "text/plain": [
       "(3+4j)"
      ]
     },
     "execution_count": 6,
     "metadata": {},
     "output_type": "execute_result"
    }
   ],
   "source": [
    "z = 3+4j\n",
    "z"
   ]
  },
  {
   "cell_type": "code",
   "execution_count": 7,
   "id": "ecdd4c25-02ee-4185-a8f6-d3fd312265fc",
   "metadata": {},
   "outputs": [
    {
     "data": {
      "text/plain": [
       "complex"
      ]
     },
     "execution_count": 7,
     "metadata": {},
     "output_type": "execute_result"
    }
   ],
   "source": [
    "type(z)"
   ]
  },
  {
   "cell_type": "code",
   "execution_count": 8,
   "id": "8df0bb14-9e4c-4356-8439-58e61fd0cb04",
   "metadata": {},
   "outputs": [
    {
     "name": "stdout",
     "output_type": "stream",
     "text": [
      "True\n",
      "False\n",
      "True\n",
      "False\n",
      "True\n",
      "True\n"
     ]
    }
   ],
   "source": [
    "print(isinstance(x, int))\n",
    "print(isinstance(x, complex))\n",
    "print(isinstance(x, object))\n",
    "\n",
    "print(isinstance(z, int))\n",
    "print(isinstance(z, complex))\n",
    "print(isinstance(z, object))"
   ]
  },
  {
   "cell_type": "markdown",
   "id": "4fe039b9-ffd9-4c20-a764-62eace749426",
   "metadata": {},
   "source": [
    "## Methods\n",
    "specific function of a class"
   ]
  },
  {
   "cell_type": "code",
   "execution_count": 10,
   "id": "93372daf-98e6-4ee3-9a2e-70326b49844e",
   "metadata": {},
   "outputs": [
    {
     "name": "stdout",
     "output_type": "stream",
     "text": [
      "TOULOUSE\n"
     ]
    }
   ],
   "source": [
    "city = 'Toulouse'\n",
    "# call 'upper' method of class 'str'\n",
    "print(city.upper())"
   ]
  },
  {
   "cell_type": "code",
   "execution_count": 11,
   "id": "16627bea-1bd4-4faa-a503-6f9a6e7a390d",
   "metadata": {},
   "outputs": [
    {
     "data": {
      "text/plain": [
       "\u001b[1;31mSignature:\u001b[0m \u001b[0mcity\u001b[0m\u001b[1;33m.\u001b[0m\u001b[0mupper\u001b[0m\u001b[1;33m(\u001b[0m\u001b[1;33m)\u001b[0m\u001b[1;33m\u001b[0m\u001b[1;33m\u001b[0m\u001b[0m\n",
       "\u001b[1;31mDocstring:\u001b[0m Return a copy of the string converted to uppercase.\n",
       "\u001b[1;31mType:\u001b[0m      builtin_function_or_method"
      ]
     },
     "metadata": {},
     "output_type": "display_data"
    }
   ],
   "source": [
    "city.upper?"
   ]
  },
  {
   "cell_type": "code",
   "execution_count": 12,
   "id": "ef37acbc-df87-401d-a7c8-97474e95b57c",
   "metadata": {},
   "outputs": [
    {
     "data": {
      "text/plain": [
       "\u001b[1;31mSignature:\u001b[0m \u001b[0mstr\u001b[0m\u001b[1;33m.\u001b[0m\u001b[0mupper\u001b[0m\u001b[1;33m(\u001b[0m\u001b[0mself\u001b[0m\u001b[1;33m,\u001b[0m \u001b[1;33m/\u001b[0m\u001b[1;33m)\u001b[0m\u001b[1;33m\u001b[0m\u001b[1;33m\u001b[0m\u001b[0m\n",
       "\u001b[1;31mDocstring:\u001b[0m Return a copy of the string converted to uppercase.\n",
       "\u001b[1;31mType:\u001b[0m      method_descriptor"
      ]
     },
     "metadata": {},
     "output_type": "display_data"
    }
   ],
   "source": [
    "str.upper?"
   ]
  },
  {
   "cell_type": "code",
   "execution_count": 13,
   "id": "09b650e7-e523-485c-8146-26d67c448ad0",
   "metadata": {},
   "outputs": [
    {
     "data": {
      "text/plain": [
       "[1, 2, 3, 4, 7, 9, 100]"
      ]
     },
     "execution_count": 13,
     "metadata": {},
     "output_type": "execute_result"
    }
   ],
   "source": [
    "# list methods: 'append', 'extend'\n",
    "numbers = [1, 2, 3]\n",
    "numbers.append(4)\n",
    "numbers.extend([7, 9, 100])\n",
    "numbers"
   ]
  },
  {
   "cell_type": "code",
   "execution_count": 14,
   "id": "1a93af41-8bc5-4fe6-a40d-3cbe53b768a0",
   "metadata": {},
   "outputs": [
    {
     "name": "stdout",
     "output_type": "stream",
     "text": [
      "4\n",
      "4\n"
     ]
    }
   ],
   "source": [
    "print(numbers.index(7))\n",
    "\n",
    "numbers_t = tuple(numbers)\n",
    "print(numbers_t.index(7))\n",
    "# numbers_t.append(7) # tuple has no method 'append'"
   ]
  },
  {
   "cell_type": "markdown",
   "id": "48b79fe0-c116-4ab2-822e-2406e64ec5f5",
   "metadata": {},
   "source": [
    "## attributes\n",
    "attribute: property, field, ..."
   ]
  },
  {
   "cell_type": "code",
   "execution_count": 16,
   "id": "38c1bc15-bcb1-4847-8fba-919ed2dd8948",
   "metadata": {},
   "outputs": [
    {
     "name": "stdout",
     "output_type": "stream",
     "text": [
      "1965 7 3\n",
      "1965-07-03\n"
     ]
    },
    {
     "data": {
      "text/plain": [
       "datetime.date(1965, 7, 3)"
      ]
     },
     "execution_count": 16,
     "metadata": {},
     "output_type": "execute_result"
    }
   ],
   "source": [
    "# date() is a 'constructor' function\n",
    "birthdate = date(1965,7,3)\n",
    "print(birthdate.year, birthdate.month, birthdate.day)\n",
    "print(birthdate)\n",
    "birthdate"
   ]
  },
  {
   "cell_type": "code",
   "execution_count": 17,
   "id": "c7d2c03c-792f-470a-af3e-b2e4a8854773",
   "metadata": {},
   "outputs": [
    {
     "data": {
      "text/plain": [
       "'03/07/1965'"
      ]
     },
     "execution_count": 17,
     "metadata": {},
     "output_type": "execute_result"
    }
   ],
   "source": [
    "birthdate.strftime('%d/%m/%Y')"
   ]
  },
  {
   "cell_type": "code",
   "execution_count": 18,
   "id": "d1f60fc2-9843-4947-be24-cbbee7211b89",
   "metadata": {},
   "outputs": [
    {
     "data": {
      "text/plain": [
       "datetime.date"
      ]
     },
     "execution_count": 18,
     "metadata": {},
     "output_type": "execute_result"
    }
   ],
   "source": [
    "type(birthdate)"
   ]
  },
  {
   "cell_type": "markdown",
   "id": "8e86932e-a707-4566-9822-4c11c0740242",
   "metadata": {},
   "source": [
    "![carte timezones](https://upload.wikimedia.org/wikipedia/commons/8/88/World_Time_Zones_Map.png)"
   ]
  },
  {
   "cell_type": "code",
   "execution_count": 20,
   "id": "36b1770f-206d-4d30-b420-d1570d2dabae",
   "metadata": {},
   "outputs": [
    {
     "name": "stdout",
     "output_type": "stream",
     "text": [
      "2024-02-29 12:30:00\n"
     ]
    },
    {
     "data": {
      "text/plain": [
       "datetime.datetime(2024, 2, 29, 12, 30)"
      ]
     },
     "execution_count": 20,
     "metadata": {},
     "output_type": "execute_result"
    }
   ],
   "source": [
    "dt1 = datetime(2024, 2, 29, 12, 30)\n",
    "print(dt1)\n",
    "dt1"
   ]
  },
  {
   "cell_type": "code",
   "execution_count": 21,
   "id": "b7612f67-ae2c-4dbf-9463-07ab3598341b",
   "metadata": {},
   "outputs": [
    {
     "data": {
      "text/plain": [
       "True"
      ]
     },
     "execution_count": 21,
     "metadata": {},
     "output_type": "execute_result"
    }
   ],
   "source": [
    "dt1.tzinfo is None"
   ]
  },
  {
   "cell_type": "code",
   "execution_count": 22,
   "id": "d1bfcdf6-5d15-4974-9ab6-efb8fc82b927",
   "metadata": {},
   "outputs": [
    {
     "data": {
      "text/plain": [
       "datetime.datetime(2024, 12, 5, 9, 4, 48, 34605)"
      ]
     },
     "execution_count": 22,
     "metadata": {},
     "output_type": "execute_result"
    }
   ],
   "source": [
    "# 'now' is a class method\n",
    "dt2 = datetime.now()\n",
    "dt2"
   ]
  },
  {
   "cell_type": "code",
   "execution_count": 23,
   "id": "a9401a61-b7db-4d4d-8052-dccfbd76aa51",
   "metadata": {},
   "outputs": [
    {
     "data": {
      "text/plain": [
       "['Pacific/Tahiti']"
      ]
     },
     "execution_count": 23,
     "metadata": {},
     "output_type": "execute_result"
    }
   ],
   "source": [
    "[ tz for tz in pytz.all_timezones if 'tahiti' in tz.lower() ]"
   ]
  },
  {
   "cell_type": "code",
   "execution_count": 24,
   "id": "d3c781f4-0a6f-4aea-92d9-b763f03c37fa",
   "metadata": {},
   "outputs": [
    {
     "name": "stdout",
     "output_type": "stream",
     "text": [
      "* Europe/Paris:\n",
      "\t- 2024-12-05 09:04:48.212689+01:00\n",
      "\t- 2024, 12, 5, 9, 4, 48, 212689, Europe/Paris\n",
      "\t- 2024-12-05\n",
      "\t- 09:04:48.212689\n",
      "\t- 05/12/2024 09:04:48 (CET)\n",
      "\t- Thursday 05 December 2024 09:04:48 (CET)\n",
      "* Pacific/Tahiti:\n",
      "\t- 2024-12-04 22:04:48.218917-10:00\n",
      "\t- 2024, 12, 4, 22, 4, 48, 218917, Pacific/Tahiti\n",
      "\t- 2024-12-04\n",
      "\t- 22:04:48.218917\n",
      "\t- 04/12/2024 22:04:48 (-10)\n",
      "\t- Wednesday 04 December 2024 22:04:48 (-10)\n",
      "* America/Martinique:\n",
      "\t- 2024-12-05 04:04:48.220660-04:00\n",
      "\t- 2024, 12, 5, 4, 4, 48, 220660, America/Martinique\n",
      "\t- 2024-12-05\n",
      "\t- 04:04:48.220660\n",
      "\t- 05/12/2024 04:04:48 (AST)\n",
      "\t- Thursday 05 December 2024 04:04:48 (AST)\n"
     ]
    }
   ],
   "source": [
    "timezones = ['Europe/Paris', 'Pacific/Tahiti', 'America/Martinique']\n",
    "for tz in timezones:\n",
    "    dt = datetime.now(tz=pytz.timezone(tz))\n",
    "    print(f\"* {tz}:\")\n",
    "    print(f\"\\t- {dt}\")\n",
    "    print(f\"\\t- {dt.year}, {dt.month}, {dt.day}, {dt.hour}, {dt.minute}, {dt.second}, {dt.microsecond}, {dt.tzinfo}\")\n",
    "    print(f\"\\t- {dt.date()}\")\n",
    "    print(f\"\\t- {dt.time()}\")\n",
    "    print(\"\\t-\", dt.strftime('%d/%m/%Y %H:%M:%S (%Z)'))\n",
    "    print(f\"\\t- {dt:%A %d %B %Y %H:%M:%S (%Z)}\")"
   ]
  },
  {
   "cell_type": "markdown",
   "id": "5e4b6daf-190c-4691-b9c2-9235603998ad",
   "metadata": {},
   "source": [
    "**NB** date and time formats:\n",
    "https://docs.python.org/3/library/datetime.html#strftime-and-strptime-behavior"
   ]
  },
  {
   "cell_type": "code",
   "execution_count": 26,
   "id": "73595cfd-741d-4dce-bd49-e3fb92ccfa27",
   "metadata": {},
   "outputs": [
    {
     "data": {
      "text/plain": [
       "('fr_FR', 'cp1252')"
      ]
     },
     "execution_count": 26,
     "metadata": {},
     "output_type": "execute_result"
    }
   ],
   "source": [
    "locale.getlocale()"
   ]
  },
  {
   "cell_type": "code",
   "execution_count": 27,
   "id": "664b9ff9-e105-4225-b50c-0031c7f5745d",
   "metadata": {},
   "outputs": [
    {
     "data": {
      "text/plain": [
       "(None, None)"
      ]
     },
     "execution_count": 27,
     "metadata": {},
     "output_type": "execute_result"
    }
   ],
   "source": [
    "locale.getlocale(locale.LC_TIME)"
   ]
  },
  {
   "cell_type": "code",
   "execution_count": 28,
   "id": "608d195a-d36b-4da3-ac5e-77db10db3ebb",
   "metadata": {},
   "outputs": [
    {
     "name": "stdout",
     "output_type": "stream",
     "text": [
      "jeudi 05 décembre 2024 04:04:48 (AST)\n",
      "jueves 05 diciembre 2024 04:04:48 (AST)\n",
      "torsdag 05 december 2024 04:04:48 (AST)\n"
     ]
    }
   ],
   "source": [
    "for lc in ('fr_FR', 'es_ES', 'sv_SE'):\n",
    "    locale.setlocale(locale.LC_ALL, lc)\n",
    "    print(f\"{dt:%A %d %B %Y %H:%M:%S (%Z)}\")"
   ]
  },
  {
   "cell_type": "code",
   "execution_count": 29,
   "id": "382508a8-9391-483c-9124-9ea5acb8c391",
   "metadata": {},
   "outputs": [
    {
     "data": {
      "text/plain": [
       "'fr_FR'"
      ]
     },
     "execution_count": 29,
     "metadata": {},
     "output_type": "execute_result"
    }
   ],
   "source": [
    "locale.setlocale(locale.LC_ALL, 'fr_FR')"
   ]
  },
  {
   "cell_type": "code",
   "execution_count": 30,
   "id": "748ccd6f-4c14-477e-8099-2d39bb9206c9",
   "metadata": {},
   "outputs": [
    {
     "data": {
      "text/plain": [
       "['Cœur',\n",
       " 'Zèbre',\n",
       " 'cobra',\n",
       " 'corde',\n",
       " 'garbure',\n",
       " 'garde',\n",
       " 'garçon',\n",
       " 'étage',\n",
       " 'étude',\n",
       " 'été']"
      ]
     },
     "execution_count": 30,
     "metadata": {},
     "output_type": "execute_result"
    }
   ],
   "source": [
    "words_fr = ['été', 'étude', 'étage', 'Cœur', 'cobra', 'corde', 'garçon', 'garbure', 'garde', 'Zèbre']\n",
    "words_fr.sort() # inplace sort\n",
    "words_fr"
   ]
  },
  {
   "cell_type": "code",
   "execution_count": 31,
   "id": "413b5a0f-ff7e-477e-8968-f7c3384b98da",
   "metadata": {},
   "outputs": [
    {
     "data": {
      "text/plain": [
       "['cobra',\n",
       " 'Cœur',\n",
       " 'corde',\n",
       " 'étage',\n",
       " 'été',\n",
       " 'étude',\n",
       " 'garbure',\n",
       " 'garçon',\n",
       " 'garde',\n",
       " 'Zèbre']"
      ]
     },
     "execution_count": 31,
     "metadata": {},
     "output_type": "execute_result"
    }
   ],
   "source": [
    "words_fr.sort(key=locale.strxfrm)\n",
    "words_fr"
   ]
  },
  {
   "cell_type": "code",
   "execution_count": 32,
   "id": "318990d2-268c-4f26-a263-f705f9c9e105",
   "metadata": {},
   "outputs": [
    {
     "name": "stdout",
     "output_type": "stream",
     "text": [
      "['mano', 'matador', 'mañana']\n",
      "['mañana', 'mano', 'matador']\n",
      "['mano', 'mañana', 'matador']\n"
     ]
    }
   ],
   "source": [
    "words_es = ['mañana', 'mano', 'matador']\n",
    "words_es.sort()\n",
    "print(words_es)\n",
    "locale.setlocale(locale.LC_ALL, 'fr_FR')\n",
    "words_es.sort(key=locale.strxfrm)\n",
    "print(words_es)\n",
    "locale.setlocale(locale.LC_ALL, 'es_ES')\n",
    "words_es.sort(key=locale.strxfrm)\n",
    "print(words_es)"
   ]
  },
  {
   "cell_type": "code",
   "execution_count": 33,
   "id": "d70031ca-f407-456d-ad3f-c4e849a12124",
   "metadata": {},
   "outputs": [
    {
     "data": {
      "text/plain": [
       "\"L'HAŸ-LES-ROSES\""
      ]
     },
     "execution_count": 33,
     "metadata": {},
     "output_type": "execute_result"
    }
   ],
   "source": [
    "\"L'Haÿ-les-Roses\".upper()"
   ]
  },
  {
   "cell_type": "markdown",
   "id": "6fe7244b-03bf-4b26-a310-ce7a85ce45fa",
   "metadata": {},
   "source": [
    "## Pandas"
   ]
  },
  {
   "cell_type": "code",
   "execution_count": 35,
   "id": "b39a27fb-aa73-4923-9f97-81a12d0da153",
   "metadata": {},
   "outputs": [
    {
     "data": {
      "text/html": [
       "<div>\n",
       "<style scoped>\n",
       "    .dataframe tbody tr th:only-of-type {\n",
       "        vertical-align: middle;\n",
       "    }\n",
       "\n",
       "    .dataframe tbody tr th {\n",
       "        vertical-align: top;\n",
       "    }\n",
       "\n",
       "    .dataframe thead th {\n",
       "        text-align: right;\n",
       "    }\n",
       "</style>\n",
       "<table border=\"1\" class=\"dataframe\">\n",
       "  <thead>\n",
       "    <tr style=\"text-align: right;\">\n",
       "      <th></th>\n",
       "      <th>insee_code</th>\n",
       "      <th>city_code</th>\n",
       "      <th>zip_code</th>\n",
       "      <th>label</th>\n",
       "      <th>latitude</th>\n",
       "      <th>longitude</th>\n",
       "      <th>department_name</th>\n",
       "      <th>department_number</th>\n",
       "      <th>region_name</th>\n",
       "      <th>region_geojson_name</th>\n",
       "    </tr>\n",
       "  </thead>\n",
       "  <tbody>\n",
       "    <tr>\n",
       "      <th>0</th>\n",
       "      <td>25620</td>\n",
       "      <td>ville du pont</td>\n",
       "      <td>25650</td>\n",
       "      <td>ville du pont</td>\n",
       "      <td>46.999873</td>\n",
       "      <td>6.498147</td>\n",
       "      <td>doubs</td>\n",
       "      <td>25</td>\n",
       "      <td>bourgogne-franche-comté</td>\n",
       "      <td>Bourgogne-Franche-Comté</td>\n",
       "    </tr>\n",
       "    <tr>\n",
       "      <th>1</th>\n",
       "      <td>25624</td>\n",
       "      <td>villers grelot</td>\n",
       "      <td>25640</td>\n",
       "      <td>villers grelot</td>\n",
       "      <td>47.361512</td>\n",
       "      <td>6.235167</td>\n",
       "      <td>doubs</td>\n",
       "      <td>25</td>\n",
       "      <td>bourgogne-franche-comté</td>\n",
       "      <td>Bourgogne-Franche-Comté</td>\n",
       "    </tr>\n",
       "    <tr>\n",
       "      <th>2</th>\n",
       "      <td>25615</td>\n",
       "      <td>villars les blamont</td>\n",
       "      <td>25310</td>\n",
       "      <td>villars les blamont</td>\n",
       "      <td>47.368384</td>\n",
       "      <td>6.871415</td>\n",
       "      <td>doubs</td>\n",
       "      <td>25</td>\n",
       "      <td>bourgogne-franche-comté</td>\n",
       "      <td>Bourgogne-Franche-Comté</td>\n",
       "    </tr>\n",
       "    <tr>\n",
       "      <th>3</th>\n",
       "      <td>25619</td>\n",
       "      <td>les villedieu</td>\n",
       "      <td>25240</td>\n",
       "      <td>les villedieu</td>\n",
       "      <td>46.713906</td>\n",
       "      <td>6.265831</td>\n",
       "      <td>doubs</td>\n",
       "      <td>25</td>\n",
       "      <td>bourgogne-franche-comté</td>\n",
       "      <td>Bourgogne-Franche-Comté</td>\n",
       "    </tr>\n",
       "    <tr>\n",
       "      <th>4</th>\n",
       "      <td>25622</td>\n",
       "      <td>villers buzon</td>\n",
       "      <td>25170</td>\n",
       "      <td>villers buzon</td>\n",
       "      <td>47.228558</td>\n",
       "      <td>5.852187</td>\n",
       "      <td>doubs</td>\n",
       "      <td>25</td>\n",
       "      <td>bourgogne-franche-comté</td>\n",
       "      <td>Bourgogne-Franche-Comté</td>\n",
       "    </tr>\n",
       "    <tr>\n",
       "      <th>...</th>\n",
       "      <td>...</td>\n",
       "      <td>...</td>\n",
       "      <td>...</td>\n",
       "      <td>...</td>\n",
       "      <td>...</td>\n",
       "      <td>...</td>\n",
       "      <td>...</td>\n",
       "      <td>...</td>\n",
       "      <td>...</td>\n",
       "      <td>...</td>\n",
       "    </tr>\n",
       "    <tr>\n",
       "      <th>39140</th>\n",
       "      <td>98829</td>\n",
       "      <td>thio</td>\n",
       "      <td>98829</td>\n",
       "      <td>thio</td>\n",
       "      <td>NaN</td>\n",
       "      <td>NaN</td>\n",
       "      <td>nouvelle-calédonie</td>\n",
       "      <td>988</td>\n",
       "      <td>nouvelle-calédonie</td>\n",
       "      <td>Nouvelle Calédonie</td>\n",
       "    </tr>\n",
       "    <tr>\n",
       "      <th>39141</th>\n",
       "      <td>98831</td>\n",
       "      <td>voh</td>\n",
       "      <td>98833</td>\n",
       "      <td>voh</td>\n",
       "      <td>NaN</td>\n",
       "      <td>NaN</td>\n",
       "      <td>nouvelle-calédonie</td>\n",
       "      <td>988</td>\n",
       "      <td>nouvelle-calédonie</td>\n",
       "      <td>Nouvelle Calédonie</td>\n",
       "    </tr>\n",
       "    <tr>\n",
       "      <th>39142</th>\n",
       "      <td>98832</td>\n",
       "      <td>yate</td>\n",
       "      <td>98834</td>\n",
       "      <td>yate</td>\n",
       "      <td>NaN</td>\n",
       "      <td>NaN</td>\n",
       "      <td>nouvelle-calédonie</td>\n",
       "      <td>988</td>\n",
       "      <td>nouvelle-calédonie</td>\n",
       "      <td>Nouvelle Calédonie</td>\n",
       "    </tr>\n",
       "    <tr>\n",
       "      <th>39143</th>\n",
       "      <td>98612</td>\n",
       "      <td>sigave</td>\n",
       "      <td>98620</td>\n",
       "      <td>sigave</td>\n",
       "      <td>-14.270411</td>\n",
       "      <td>-178.155263</td>\n",
       "      <td>wallis-et-futuna</td>\n",
       "      <td>986</td>\n",
       "      <td>wallis-et-futuna</td>\n",
       "      <td>Wallis-et-Futuna</td>\n",
       "    </tr>\n",
       "    <tr>\n",
       "      <th>39144</th>\n",
       "      <td>98613</td>\n",
       "      <td>uvea</td>\n",
       "      <td>98600</td>\n",
       "      <td>uvea</td>\n",
       "      <td>-13.281863</td>\n",
       "      <td>-176.161928</td>\n",
       "      <td>wallis-et-futuna</td>\n",
       "      <td>986</td>\n",
       "      <td>wallis-et-futuna</td>\n",
       "      <td>Wallis-et-Futuna</td>\n",
       "    </tr>\n",
       "  </tbody>\n",
       "</table>\n",
       "<p>39145 rows × 10 columns</p>\n",
       "</div>"
      ],
      "text/plain": [
       "      insee_code            city_code zip_code                label  \\\n",
       "0          25620        ville du pont    25650        ville du pont   \n",
       "1          25624       villers grelot    25640       villers grelot   \n",
       "2          25615  villars les blamont    25310  villars les blamont   \n",
       "3          25619        les villedieu    25240        les villedieu   \n",
       "4          25622        villers buzon    25170        villers buzon   \n",
       "...          ...                  ...      ...                  ...   \n",
       "39140      98829                 thio    98829                 thio   \n",
       "39141      98831                  voh    98833                  voh   \n",
       "39142      98832                 yate    98834                 yate   \n",
       "39143      98612               sigave    98620               sigave   \n",
       "39144      98613                 uvea    98600                 uvea   \n",
       "\n",
       "        latitude   longitude     department_name department_number  \\\n",
       "0      46.999873    6.498147               doubs                25   \n",
       "1      47.361512    6.235167               doubs                25   \n",
       "2      47.368384    6.871415               doubs                25   \n",
       "3      46.713906    6.265831               doubs                25   \n",
       "4      47.228558    5.852187               doubs                25   \n",
       "...          ...         ...                 ...               ...   \n",
       "39140        NaN         NaN  nouvelle-calédonie               988   \n",
       "39141        NaN         NaN  nouvelle-calédonie               988   \n",
       "39142        NaN         NaN  nouvelle-calédonie               988   \n",
       "39143 -14.270411 -178.155263    wallis-et-futuna               986   \n",
       "39144 -13.281863 -176.161928    wallis-et-futuna               986   \n",
       "\n",
       "                   region_name      region_geojson_name  \n",
       "0      bourgogne-franche-comté  Bourgogne-Franche-Comté  \n",
       "1      bourgogne-franche-comté  Bourgogne-Franche-Comté  \n",
       "2      bourgogne-franche-comté  Bourgogne-Franche-Comté  \n",
       "3      bourgogne-franche-comté  Bourgogne-Franche-Comté  \n",
       "4      bourgogne-franche-comté  Bourgogne-Franche-Comté  \n",
       "...                        ...                      ...  \n",
       "39140       nouvelle-calédonie       Nouvelle Calédonie  \n",
       "39141       nouvelle-calédonie       Nouvelle Calédonie  \n",
       "39142       nouvelle-calédonie       Nouvelle Calédonie  \n",
       "39143         wallis-et-futuna         Wallis-et-Futuna  \n",
       "39144         wallis-et-futuna         Wallis-et-Futuna  \n",
       "\n",
       "[39145 rows x 10 columns]"
      ]
     },
     "execution_count": 35,
     "metadata": {},
     "output_type": "execute_result"
    }
   ],
   "source": [
    "df_cities = pd.read_csv(\n",
    "    'data/cities.csv', \n",
    "    encoding='UTF-8', \n",
    "    dtype={\n",
    "        'zip_code': 'str'\n",
    "    }\n",
    ")\n",
    "df_cities"
   ]
  },
  {
   "cell_type": "code",
   "execution_count": 36,
   "id": "9a9db4ee-eb72-4a45-8fae-fdf415a23932",
   "metadata": {},
   "outputs": [
    {
     "data": {
      "text/plain": [
       "pandas.core.frame.DataFrame"
      ]
     },
     "execution_count": 36,
     "metadata": {},
     "output_type": "execute_result"
    }
   ],
   "source": [
    "type(df_cities)"
   ]
  },
  {
   "cell_type": "code",
   "execution_count": 37,
   "id": "26fd41b4-78e9-4179-ab5d-4216e6e54715",
   "metadata": {},
   "outputs": [
    {
     "name": "stdout",
     "output_type": "stream",
     "text": [
      "<class 'pandas.core.frame.DataFrame'>\n",
      "RangeIndex: 39145 entries, 0 to 39144\n",
      "Data columns (total 10 columns):\n",
      " #   Column               Non-Null Count  Dtype  \n",
      "---  ------               --------------  -----  \n",
      " 0   insee_code           39145 non-null  object \n",
      " 1   city_code            39145 non-null  object \n",
      " 2   zip_code             39145 non-null  object \n",
      " 3   label                39145 non-null  object \n",
      " 4   latitude             38934 non-null  float64\n",
      " 5   longitude            38934 non-null  float64\n",
      " 6   department_name      39145 non-null  object \n",
      " 7   department_number    39145 non-null  object \n",
      " 8   region_name          39145 non-null  object \n",
      " 9   region_geojson_name  39145 non-null  object \n",
      "dtypes: float64(2), object(8)\n",
      "memory usage: 3.0+ MB\n"
     ]
    }
   ],
   "source": [
    "df_cities.info()"
   ]
  },
  {
   "cell_type": "code",
   "execution_count": 38,
   "id": "7d049e5c-0984-455e-b827-b359a0f0976a",
   "metadata": {},
   "outputs": [
    {
     "data": {
      "text/html": [
       "<div>\n",
       "<style scoped>\n",
       "    .dataframe tbody tr th:only-of-type {\n",
       "        vertical-align: middle;\n",
       "    }\n",
       "\n",
       "    .dataframe tbody tr th {\n",
       "        vertical-align: top;\n",
       "    }\n",
       "\n",
       "    .dataframe thead th {\n",
       "        text-align: right;\n",
       "    }\n",
       "</style>\n",
       "<table border=\"1\" class=\"dataframe\">\n",
       "  <thead>\n",
       "    <tr style=\"text-align: right;\">\n",
       "      <th></th>\n",
       "      <th>insee_code</th>\n",
       "      <th>city_code</th>\n",
       "      <th>zip_code</th>\n",
       "      <th>label</th>\n",
       "      <th>latitude</th>\n",
       "      <th>longitude</th>\n",
       "      <th>department_name</th>\n",
       "      <th>department_number</th>\n",
       "      <th>region_name</th>\n",
       "      <th>region_geojson_name</th>\n",
       "    </tr>\n",
       "  </thead>\n",
       "  <tbody>\n",
       "    <tr>\n",
       "      <th>37285</th>\n",
       "      <td>09122</td>\n",
       "      <td>foix</td>\n",
       "      <td>09000</td>\n",
       "      <td>foix</td>\n",
       "      <td>42.965329</td>\n",
       "      <td>1.610242</td>\n",
       "      <td>ariège</td>\n",
       "      <td>09</td>\n",
       "      <td>occitanie</td>\n",
       "      <td>Occitanie</td>\n",
       "    </tr>\n",
       "  </tbody>\n",
       "</table>\n",
       "</div>"
      ],
      "text/plain": [
       "      insee_code city_code zip_code label   latitude  longitude  \\\n",
       "37285      09122      foix    09000  foix  42.965329   1.610242   \n",
       "\n",
       "      department_name department_number region_name region_geojson_name  \n",
       "37285          ariège                09   occitanie           Occitanie  "
      ]
     },
     "execution_count": 38,
     "metadata": {},
     "output_type": "execute_result"
    }
   ],
   "source": [
    "df_cities[df_cities.label.str.contains('foix')]"
   ]
  },
  {
   "cell_type": "code",
   "execution_count": 39,
   "id": "693c39e7-0477-46bb-98c4-a0d7c689a083",
   "metadata": {},
   "outputs": [
    {
     "data": {
      "text/plain": [
       "0              ville du pont\n",
       "1             villers grelot\n",
       "2        villars les blamont\n",
       "3              les villedieu\n",
       "4              villers buzon\n",
       "                ...         \n",
       "39140                   thio\n",
       "39141                    voh\n",
       "39142                   yate\n",
       "39143                 sigave\n",
       "39144                   uvea\n",
       "Name: label, Length: 39145, dtype: object"
      ]
     },
     "execution_count": 39,
     "metadata": {},
     "output_type": "execute_result"
    }
   ],
   "source": [
    "# column\n",
    "df_cities.label"
   ]
  },
  {
   "cell_type": "code",
   "execution_count": 40,
   "id": "aaf835e7-def6-463b-bb70-4c07de7572aa",
   "metadata": {},
   "outputs": [
    {
     "data": {
      "text/plain": [
       "0        25650\n",
       "1        25640\n",
       "2        25310\n",
       "3        25240\n",
       "4        25170\n",
       "         ...  \n",
       "39140    98829\n",
       "39141    98833\n",
       "39142    98834\n",
       "39143    98620\n",
       "39144    98600\n",
       "Name: zip_code, Length: 39145, dtype: object"
      ]
     },
     "execution_count": 40,
     "metadata": {},
     "output_type": "execute_result"
    }
   ],
   "source": [
    "# another column\n",
    "df_cities.zip_code"
   ]
  },
  {
   "cell_type": "code",
   "execution_count": 41,
   "id": "04f283e1-121d-4bbf-b8e9-d28c1397eaf0",
   "metadata": {},
   "outputs": [
    {
     "data": {
      "text/plain": [
       "0        25650\n",
       "1        25640\n",
       "2        25310\n",
       "3        25240\n",
       "4        25170\n",
       "         ...  \n",
       "39140    98829\n",
       "39141    98833\n",
       "39142    98834\n",
       "39143    98620\n",
       "39144    98600\n",
       "Name: zip_code, Length: 39145, dtype: object"
      ]
     },
     "execution_count": 41,
     "metadata": {},
     "output_type": "execute_result"
    }
   ],
   "source": [
    "df_cities['zip_code']"
   ]
  },
  {
   "cell_type": "code",
   "execution_count": 42,
   "id": "0df794a0-d2a9-4a6d-b0f4-fdb25345c404",
   "metadata": {},
   "outputs": [
    {
     "data": {
      "text/html": [
       "<div>\n",
       "<style scoped>\n",
       "    .dataframe tbody tr th:only-of-type {\n",
       "        vertical-align: middle;\n",
       "    }\n",
       "\n",
       "    .dataframe tbody tr th {\n",
       "        vertical-align: top;\n",
       "    }\n",
       "\n",
       "    .dataframe thead th {\n",
       "        text-align: right;\n",
       "    }\n",
       "</style>\n",
       "<table border=\"1\" class=\"dataframe\">\n",
       "  <thead>\n",
       "    <tr style=\"text-align: right;\">\n",
       "      <th></th>\n",
       "      <th>zip_code</th>\n",
       "      <th>label</th>\n",
       "    </tr>\n",
       "  </thead>\n",
       "  <tbody>\n",
       "    <tr>\n",
       "      <th>0</th>\n",
       "      <td>25650</td>\n",
       "      <td>ville du pont</td>\n",
       "    </tr>\n",
       "    <tr>\n",
       "      <th>1</th>\n",
       "      <td>25640</td>\n",
       "      <td>villers grelot</td>\n",
       "    </tr>\n",
       "    <tr>\n",
       "      <th>2</th>\n",
       "      <td>25310</td>\n",
       "      <td>villars les blamont</td>\n",
       "    </tr>\n",
       "    <tr>\n",
       "      <th>3</th>\n",
       "      <td>25240</td>\n",
       "      <td>les villedieu</td>\n",
       "    </tr>\n",
       "    <tr>\n",
       "      <th>4</th>\n",
       "      <td>25170</td>\n",
       "      <td>villers buzon</td>\n",
       "    </tr>\n",
       "    <tr>\n",
       "      <th>...</th>\n",
       "      <td>...</td>\n",
       "      <td>...</td>\n",
       "    </tr>\n",
       "    <tr>\n",
       "      <th>39140</th>\n",
       "      <td>98829</td>\n",
       "      <td>thio</td>\n",
       "    </tr>\n",
       "    <tr>\n",
       "      <th>39141</th>\n",
       "      <td>98833</td>\n",
       "      <td>voh</td>\n",
       "    </tr>\n",
       "    <tr>\n",
       "      <th>39142</th>\n",
       "      <td>98834</td>\n",
       "      <td>yate</td>\n",
       "    </tr>\n",
       "    <tr>\n",
       "      <th>39143</th>\n",
       "      <td>98620</td>\n",
       "      <td>sigave</td>\n",
       "    </tr>\n",
       "    <tr>\n",
       "      <th>39144</th>\n",
       "      <td>98600</td>\n",
       "      <td>uvea</td>\n",
       "    </tr>\n",
       "  </tbody>\n",
       "</table>\n",
       "<p>39145 rows × 2 columns</p>\n",
       "</div>"
      ],
      "text/plain": [
       "      zip_code                label\n",
       "0        25650        ville du pont\n",
       "1        25640       villers grelot\n",
       "2        25310  villars les blamont\n",
       "3        25240        les villedieu\n",
       "4        25170        villers buzon\n",
       "...        ...                  ...\n",
       "39140    98829                 thio\n",
       "39141    98833                  voh\n",
       "39142    98834                 yate\n",
       "39143    98620               sigave\n",
       "39144    98600                 uvea\n",
       "\n",
       "[39145 rows x 2 columns]"
      ]
     },
     "execution_count": 42,
     "metadata": {},
     "output_type": "execute_result"
    }
   ],
   "source": [
    "df_cities[['zip_code', 'label']]"
   ]
  },
  {
   "cell_type": "code",
   "execution_count": 43,
   "id": "9bf2d716-5c65-4126-aa98-310adf5ed80f",
   "metadata": {},
   "outputs": [
    {
     "data": {
      "text/plain": [
       "0              VILLE DU PONT\n",
       "1             VILLERS GRELOT\n",
       "2        VILLARS LES BLAMONT\n",
       "3              LES VILLEDIEU\n",
       "4              VILLERS BUZON\n",
       "                ...         \n",
       "39140                   THIO\n",
       "39141                    VOH\n",
       "39142                   YATE\n",
       "39143                 SIGAVE\n",
       "39144                   UVEA\n",
       "Name: label, Length: 39145, dtype: object"
      ]
     },
     "execution_count": 43,
     "metadata": {},
     "output_type": "execute_result"
    }
   ],
   "source": [
    "df_cities.label.str.upper()"
   ]
  },
  {
   "cell_type": "code",
   "execution_count": 44,
   "id": "a719e1f5-b847-48c4-a689-61f0cc8ec48c",
   "metadata": {},
   "outputs": [
    {
     "data": {
      "text/plain": [
       "0        False\n",
       "1        False\n",
       "2        False\n",
       "3        False\n",
       "4        False\n",
       "         ...  \n",
       "39140    False\n",
       "39141    False\n",
       "39142    False\n",
       "39143    False\n",
       "39144    False\n",
       "Name: label, Length: 39145, dtype: bool"
      ]
     },
     "execution_count": 44,
     "metadata": {},
     "output_type": "execute_result"
    }
   ],
   "source": [
    "df_cities.label.str.contains('fOiX', case=False)"
   ]
  },
  {
   "cell_type": "code",
   "execution_count": 45,
   "id": "ac51b243-0420-4787-bb31-d72f3b39093a",
   "metadata": {},
   "outputs": [
    {
     "data": {
      "text/html": [
       "<div>\n",
       "<style scoped>\n",
       "    .dataframe tbody tr th:only-of-type {\n",
       "        vertical-align: middle;\n",
       "    }\n",
       "\n",
       "    .dataframe tbody tr th {\n",
       "        vertical-align: top;\n",
       "    }\n",
       "\n",
       "    .dataframe thead th {\n",
       "        text-align: right;\n",
       "    }\n",
       "</style>\n",
       "<table border=\"1\" class=\"dataframe\">\n",
       "  <thead>\n",
       "    <tr style=\"text-align: right;\">\n",
       "      <th></th>\n",
       "      <th>insee_code</th>\n",
       "      <th>city_code</th>\n",
       "      <th>zip_code</th>\n",
       "      <th>label</th>\n",
       "      <th>latitude</th>\n",
       "      <th>longitude</th>\n",
       "      <th>department_name</th>\n",
       "      <th>department_number</th>\n",
       "      <th>region_name</th>\n",
       "      <th>region_geojson_name</th>\n",
       "    </tr>\n",
       "  </thead>\n",
       "  <tbody>\n",
       "    <tr>\n",
       "      <th>37285</th>\n",
       "      <td>09122</td>\n",
       "      <td>foix</td>\n",
       "      <td>09000</td>\n",
       "      <td>foix</td>\n",
       "      <td>42.965329</td>\n",
       "      <td>1.610242</td>\n",
       "      <td>ariège</td>\n",
       "      <td>09</td>\n",
       "      <td>occitanie</td>\n",
       "      <td>Occitanie</td>\n",
       "    </tr>\n",
       "  </tbody>\n",
       "</table>\n",
       "</div>"
      ],
      "text/plain": [
       "      insee_code city_code zip_code label   latitude  longitude  \\\n",
       "37285      09122      foix    09000  foix  42.965329   1.610242   \n",
       "\n",
       "      department_name department_number region_name region_geojson_name  \n",
       "37285          ariège                09   occitanie           Occitanie  "
      ]
     },
     "execution_count": 45,
     "metadata": {},
     "output_type": "execute_result"
    }
   ],
   "source": [
    "df_cities[df_cities.label.str.contains('fOiX', case=False)]"
   ]
  },
  {
   "cell_type": "code",
   "execution_count": 46,
   "id": "c5c1c36e-b731-44d6-9ff8-729a384821b0",
   "metadata": {},
   "outputs": [
    {
     "data": {
      "text/html": [
       "<div>\n",
       "<style scoped>\n",
       "    .dataframe tbody tr th:only-of-type {\n",
       "        vertical-align: middle;\n",
       "    }\n",
       "\n",
       "    .dataframe tbody tr th {\n",
       "        vertical-align: top;\n",
       "    }\n",
       "\n",
       "    .dataframe thead th {\n",
       "        text-align: right;\n",
       "    }\n",
       "</style>\n",
       "<table border=\"1\" class=\"dataframe\">\n",
       "  <thead>\n",
       "    <tr style=\"text-align: right;\">\n",
       "      <th></th>\n",
       "      <th>insee_code</th>\n",
       "      <th>city_code</th>\n",
       "      <th>zip_code</th>\n",
       "      <th>label</th>\n",
       "      <th>latitude</th>\n",
       "      <th>longitude</th>\n",
       "      <th>department_name</th>\n",
       "      <th>department_number</th>\n",
       "      <th>region_name</th>\n",
       "      <th>region_geojson_name</th>\n",
       "    </tr>\n",
       "  </thead>\n",
       "  <tbody>\n",
       "    <tr>\n",
       "      <th>13774</th>\n",
       "      <td>29010</td>\n",
       "      <td>bodilis</td>\n",
       "      <td>29400</td>\n",
       "      <td>bodilis</td>\n",
       "      <td>48.515320</td>\n",
       "      <td>-4.120073</td>\n",
       "      <td>finistère</td>\n",
       "      <td>29</td>\n",
       "      <td>bretagne</td>\n",
       "      <td>Bretagne</td>\n",
       "    </tr>\n",
       "    <tr>\n",
       "      <th>13776</th>\n",
       "      <td>29022</td>\n",
       "      <td>camaret sur mer</td>\n",
       "      <td>29570</td>\n",
       "      <td>camaret sur mer</td>\n",
       "      <td>48.268164</td>\n",
       "      <td>-4.586900</td>\n",
       "      <td>finistère</td>\n",
       "      <td>29</td>\n",
       "      <td>bretagne</td>\n",
       "      <td>Bretagne</td>\n",
       "    </tr>\n",
       "    <tr>\n",
       "      <th>13780</th>\n",
       "      <td>29040</td>\n",
       "      <td>le conquet</td>\n",
       "      <td>29217</td>\n",
       "      <td>le conquet</td>\n",
       "      <td>48.357026</td>\n",
       "      <td>-4.762265</td>\n",
       "      <td>finistère</td>\n",
       "      <td>29</td>\n",
       "      <td>bretagne</td>\n",
       "      <td>Bretagne</td>\n",
       "    </tr>\n",
       "    <tr>\n",
       "      <th>13783</th>\n",
       "      <td>29058</td>\n",
       "      <td>fouesnant</td>\n",
       "      <td>29170</td>\n",
       "      <td>fouesnant</td>\n",
       "      <td>47.872602</td>\n",
       "      <td>-4.016515</td>\n",
       "      <td>finistère</td>\n",
       "      <td>29</td>\n",
       "      <td>bretagne</td>\n",
       "      <td>Bretagne</td>\n",
       "    </tr>\n",
       "    <tr>\n",
       "      <th>13785</th>\n",
       "      <td>29060</td>\n",
       "      <td>gouesnach</td>\n",
       "      <td>29950</td>\n",
       "      <td>gouesnach</td>\n",
       "      <td>47.917205</td>\n",
       "      <td>-4.110906</td>\n",
       "      <td>finistère</td>\n",
       "      <td>29</td>\n",
       "      <td>bretagne</td>\n",
       "      <td>Bretagne</td>\n",
       "    </tr>\n",
       "    <tr>\n",
       "      <th>...</th>\n",
       "      <td>...</td>\n",
       "      <td>...</td>\n",
       "      <td>...</td>\n",
       "      <td>...</td>\n",
       "      <td>...</td>\n",
       "      <td>...</td>\n",
       "      <td>...</td>\n",
       "      <td>...</td>\n",
       "      <td>...</td>\n",
       "      <td>...</td>\n",
       "    </tr>\n",
       "    <tr>\n",
       "      <th>15113</th>\n",
       "      <td>29288</td>\n",
       "      <td>tregarantec</td>\n",
       "      <td>29260</td>\n",
       "      <td>tregarantec</td>\n",
       "      <td>48.549428</td>\n",
       "      <td>-4.289531</td>\n",
       "      <td>finistère</td>\n",
       "      <td>29</td>\n",
       "      <td>bretagne</td>\n",
       "      <td>Bretagne</td>\n",
       "    </tr>\n",
       "    <tr>\n",
       "      <th>15114</th>\n",
       "      <td>29292</td>\n",
       "      <td>treguennec</td>\n",
       "      <td>29720</td>\n",
       "      <td>treguennec</td>\n",
       "      <td>47.884821</td>\n",
       "      <td>-4.339132</td>\n",
       "      <td>finistère</td>\n",
       "      <td>29</td>\n",
       "      <td>bretagne</td>\n",
       "      <td>Bretagne</td>\n",
       "    </tr>\n",
       "    <tr>\n",
       "      <th>15116</th>\n",
       "      <td>29294</td>\n",
       "      <td>le trehou</td>\n",
       "      <td>29450</td>\n",
       "      <td>le trehou</td>\n",
       "      <td>48.393872</td>\n",
       "      <td>-4.129534</td>\n",
       "      <td>finistère</td>\n",
       "      <td>29</td>\n",
       "      <td>bretagne</td>\n",
       "      <td>Bretagne</td>\n",
       "    </tr>\n",
       "    <tr>\n",
       "      <th>15117</th>\n",
       "      <td>29298</td>\n",
       "      <td>treogat</td>\n",
       "      <td>29720</td>\n",
       "      <td>treogat</td>\n",
       "      <td>47.909598</td>\n",
       "      <td>-4.341089</td>\n",
       "      <td>finistère</td>\n",
       "      <td>29</td>\n",
       "      <td>bretagne</td>\n",
       "      <td>Bretagne</td>\n",
       "    </tr>\n",
       "    <tr>\n",
       "      <th>15118</th>\n",
       "      <td>29299</td>\n",
       "      <td>treouergat</td>\n",
       "      <td>29290</td>\n",
       "      <td>treouergat</td>\n",
       "      <td>48.494960</td>\n",
       "      <td>-4.601868</td>\n",
       "      <td>finistère</td>\n",
       "      <td>29</td>\n",
       "      <td>bretagne</td>\n",
       "      <td>Bretagne</td>\n",
       "    </tr>\n",
       "  </tbody>\n",
       "</table>\n",
       "<p>196 rows × 10 columns</p>\n",
       "</div>"
      ],
      "text/plain": [
       "      insee_code        city_code zip_code            label   latitude  \\\n",
       "13774      29010          bodilis    29400          bodilis  48.515320   \n",
       "13776      29022  camaret sur mer    29570  camaret sur mer  48.268164   \n",
       "13780      29040       le conquet    29217       le conquet  48.357026   \n",
       "13783      29058        fouesnant    29170        fouesnant  47.872602   \n",
       "13785      29060        gouesnach    29950        gouesnach  47.917205   \n",
       "...          ...              ...      ...              ...        ...   \n",
       "15113      29288      tregarantec    29260      tregarantec  48.549428   \n",
       "15114      29292       treguennec    29720       treguennec  47.884821   \n",
       "15116      29294        le trehou    29450        le trehou  48.393872   \n",
       "15117      29298          treogat    29720          treogat  47.909598   \n",
       "15118      29299       treouergat    29290       treouergat  48.494960   \n",
       "\n",
       "       longitude department_name department_number region_name  \\\n",
       "13774  -4.120073       finistère                29    bretagne   \n",
       "13776  -4.586900       finistère                29    bretagne   \n",
       "13780  -4.762265       finistère                29    bretagne   \n",
       "13783  -4.016515       finistère                29    bretagne   \n",
       "13785  -4.110906       finistère                29    bretagne   \n",
       "...          ...             ...               ...         ...   \n",
       "15113  -4.289531       finistère                29    bretagne   \n",
       "15114  -4.339132       finistère                29    bretagne   \n",
       "15116  -4.129534       finistère                29    bretagne   \n",
       "15117  -4.341089       finistère                29    bretagne   \n",
       "15118  -4.601868       finistère                29    bretagne   \n",
       "\n",
       "      region_geojson_name  \n",
       "13774            Bretagne  \n",
       "13776            Bretagne  \n",
       "13780            Bretagne  \n",
       "13783            Bretagne  \n",
       "13785            Bretagne  \n",
       "...                   ...  \n",
       "15113            Bretagne  \n",
       "15114            Bretagne  \n",
       "15116            Bretagne  \n",
       "15117            Bretagne  \n",
       "15118            Bretagne  \n",
       "\n",
       "[196 rows x 10 columns]"
      ]
     },
     "execution_count": 46,
     "metadata": {},
     "output_type": "execute_result"
    }
   ],
   "source": [
    "# NB: use elementwise operators: & (and), | (or), ~ (not)\n",
    "df_cities[\n",
    "    (df_cities.longitude < -4.0)\n",
    "    & (df_cities.region_name == 'bretagne')\n",
    "]"
   ]
  },
  {
   "cell_type": "code",
   "execution_count": 47,
   "id": "05f8e69c-c0af-444a-8c9f-3b0175bebf23",
   "metadata": {},
   "outputs": [
    {
     "data": {
      "text/plain": [
       "0        False\n",
       "1        False\n",
       "2        False\n",
       "3        False\n",
       "4        False\n",
       "         ...  \n",
       "39140    False\n",
       "39141    False\n",
       "39142    False\n",
       "39143     True\n",
       "39144     True\n",
       "Name: longitude, Length: 39145, dtype: bool"
      ]
     },
     "execution_count": 47,
     "metadata": {},
     "output_type": "execute_result"
    }
   ],
   "source": [
    "df_cities.longitude < -4.0"
   ]
  },
  {
   "cell_type": "code",
   "execution_count": 48,
   "id": "5e68fcd3-6870-4318-bc67-507f73b465fd",
   "metadata": {},
   "outputs": [
    {
     "data": {
      "text/html": [
       "<div>\n",
       "<style scoped>\n",
       "    .dataframe tbody tr th:only-of-type {\n",
       "        vertical-align: middle;\n",
       "    }\n",
       "\n",
       "    .dataframe tbody tr th {\n",
       "        vertical-align: top;\n",
       "    }\n",
       "\n",
       "    .dataframe thead th {\n",
       "        text-align: right;\n",
       "    }\n",
       "</style>\n",
       "<table border=\"1\" class=\"dataframe\">\n",
       "  <thead>\n",
       "    <tr style=\"text-align: right;\">\n",
       "      <th></th>\n",
       "      <th>insee_code</th>\n",
       "      <th>city_code</th>\n",
       "      <th>zip_code</th>\n",
       "      <th>label</th>\n",
       "      <th>latitude</th>\n",
       "      <th>longitude</th>\n",
       "      <th>department_name</th>\n",
       "      <th>department_number</th>\n",
       "      <th>region_name</th>\n",
       "      <th>region_geojson_name</th>\n",
       "    </tr>\n",
       "  </thead>\n",
       "  <tbody>\n",
       "    <tr>\n",
       "      <th>38931</th>\n",
       "      <td>98711</td>\n",
       "      <td>anaa</td>\n",
       "      <td>98786</td>\n",
       "      <td>hitianau</td>\n",
       "      <td>NaN</td>\n",
       "      <td>NaN</td>\n",
       "      <td>polynésie-française</td>\n",
       "      <td>987</td>\n",
       "      <td>polynésie-française</td>\n",
       "      <td>Polynésie française</td>\n",
       "    </tr>\n",
       "    <tr>\n",
       "      <th>38932</th>\n",
       "      <td>98712</td>\n",
       "      <td>arue</td>\n",
       "      <td>98701</td>\n",
       "      <td>arue</td>\n",
       "      <td>NaN</td>\n",
       "      <td>NaN</td>\n",
       "      <td>polynésie-française</td>\n",
       "      <td>987</td>\n",
       "      <td>polynésie-française</td>\n",
       "      <td>Polynésie française</td>\n",
       "    </tr>\n",
       "    <tr>\n",
       "      <th>38933</th>\n",
       "      <td>98713</td>\n",
       "      <td>arutua</td>\n",
       "      <td>98761</td>\n",
       "      <td>rautini</td>\n",
       "      <td>NaN</td>\n",
       "      <td>NaN</td>\n",
       "      <td>polynésie-française</td>\n",
       "      <td>987</td>\n",
       "      <td>polynésie-française</td>\n",
       "      <td>Polynésie française</td>\n",
       "    </tr>\n",
       "    <tr>\n",
       "      <th>38934</th>\n",
       "      <td>98713</td>\n",
       "      <td>arutua</td>\n",
       "      <td>98762</td>\n",
       "      <td>niutahi</td>\n",
       "      <td>NaN</td>\n",
       "      <td>NaN</td>\n",
       "      <td>polynésie-française</td>\n",
       "      <td>987</td>\n",
       "      <td>polynésie-française</td>\n",
       "      <td>Polynésie française</td>\n",
       "    </tr>\n",
       "    <tr>\n",
       "      <th>38935</th>\n",
       "      <td>98714</td>\n",
       "      <td>bora bora</td>\n",
       "      <td>98730</td>\n",
       "      <td>anau</td>\n",
       "      <td>NaN</td>\n",
       "      <td>NaN</td>\n",
       "      <td>polynésie-française</td>\n",
       "      <td>987</td>\n",
       "      <td>polynésie-française</td>\n",
       "      <td>Polynésie française</td>\n",
       "    </tr>\n",
       "    <tr>\n",
       "      <th>...</th>\n",
       "      <td>...</td>\n",
       "      <td>...</td>\n",
       "      <td>...</td>\n",
       "      <td>...</td>\n",
       "      <td>...</td>\n",
       "      <td>...</td>\n",
       "      <td>...</td>\n",
       "      <td>...</td>\n",
       "      <td>...</td>\n",
       "      <td>...</td>\n",
       "    </tr>\n",
       "    <tr>\n",
       "      <th>39138</th>\n",
       "      <td>98815</td>\n",
       "      <td>mare</td>\n",
       "      <td>98878</td>\n",
       "      <td>la roche</td>\n",
       "      <td>NaN</td>\n",
       "      <td>NaN</td>\n",
       "      <td>nouvelle-calédonie</td>\n",
       "      <td>988</td>\n",
       "      <td>nouvelle-calédonie</td>\n",
       "      <td>Nouvelle Calédonie</td>\n",
       "    </tr>\n",
       "    <tr>\n",
       "      <th>39139</th>\n",
       "      <td>98822</td>\n",
       "      <td>poindimie</td>\n",
       "      <td>98822</td>\n",
       "      <td>poindimie</td>\n",
       "      <td>NaN</td>\n",
       "      <td>NaN</td>\n",
       "      <td>nouvelle-calédonie</td>\n",
       "      <td>988</td>\n",
       "      <td>nouvelle-calédonie</td>\n",
       "      <td>Nouvelle Calédonie</td>\n",
       "    </tr>\n",
       "    <tr>\n",
       "      <th>39140</th>\n",
       "      <td>98829</td>\n",
       "      <td>thio</td>\n",
       "      <td>98829</td>\n",
       "      <td>thio</td>\n",
       "      <td>NaN</td>\n",
       "      <td>NaN</td>\n",
       "      <td>nouvelle-calédonie</td>\n",
       "      <td>988</td>\n",
       "      <td>nouvelle-calédonie</td>\n",
       "      <td>Nouvelle Calédonie</td>\n",
       "    </tr>\n",
       "    <tr>\n",
       "      <th>39141</th>\n",
       "      <td>98831</td>\n",
       "      <td>voh</td>\n",
       "      <td>98833</td>\n",
       "      <td>voh</td>\n",
       "      <td>NaN</td>\n",
       "      <td>NaN</td>\n",
       "      <td>nouvelle-calédonie</td>\n",
       "      <td>988</td>\n",
       "      <td>nouvelle-calédonie</td>\n",
       "      <td>Nouvelle Calédonie</td>\n",
       "    </tr>\n",
       "    <tr>\n",
       "      <th>39142</th>\n",
       "      <td>98832</td>\n",
       "      <td>yate</td>\n",
       "      <td>98834</td>\n",
       "      <td>yate</td>\n",
       "      <td>NaN</td>\n",
       "      <td>NaN</td>\n",
       "      <td>nouvelle-calédonie</td>\n",
       "      <td>988</td>\n",
       "      <td>nouvelle-calédonie</td>\n",
       "      <td>Nouvelle Calédonie</td>\n",
       "    </tr>\n",
       "  </tbody>\n",
       "</table>\n",
       "<p>211 rows × 10 columns</p>\n",
       "</div>"
      ],
      "text/plain": [
       "      insee_code  city_code zip_code      label  latitude  longitude  \\\n",
       "38931      98711       anaa    98786   hitianau       NaN        NaN   \n",
       "38932      98712       arue    98701       arue       NaN        NaN   \n",
       "38933      98713     arutua    98761    rautini       NaN        NaN   \n",
       "38934      98713     arutua    98762    niutahi       NaN        NaN   \n",
       "38935      98714  bora bora    98730       anau       NaN        NaN   \n",
       "...          ...        ...      ...        ...       ...        ...   \n",
       "39138      98815       mare    98878   la roche       NaN        NaN   \n",
       "39139      98822  poindimie    98822  poindimie       NaN        NaN   \n",
       "39140      98829       thio    98829       thio       NaN        NaN   \n",
       "39141      98831        voh    98833        voh       NaN        NaN   \n",
       "39142      98832       yate    98834       yate       NaN        NaN   \n",
       "\n",
       "           department_name department_number          region_name  \\\n",
       "38931  polynésie-française               987  polynésie-française   \n",
       "38932  polynésie-française               987  polynésie-française   \n",
       "38933  polynésie-française               987  polynésie-française   \n",
       "38934  polynésie-française               987  polynésie-française   \n",
       "38935  polynésie-française               987  polynésie-française   \n",
       "...                    ...               ...                  ...   \n",
       "39138   nouvelle-calédonie               988   nouvelle-calédonie   \n",
       "39139   nouvelle-calédonie               988   nouvelle-calédonie   \n",
       "39140   nouvelle-calédonie               988   nouvelle-calédonie   \n",
       "39141   nouvelle-calédonie               988   nouvelle-calédonie   \n",
       "39142   nouvelle-calédonie               988   nouvelle-calédonie   \n",
       "\n",
       "       region_geojson_name  \n",
       "38931  Polynésie française  \n",
       "38932  Polynésie française  \n",
       "38933  Polynésie française  \n",
       "38934  Polynésie française  \n",
       "38935  Polynésie française  \n",
       "...                    ...  \n",
       "39138   Nouvelle Calédonie  \n",
       "39139   Nouvelle Calédonie  \n",
       "39140   Nouvelle Calédonie  \n",
       "39141   Nouvelle Calédonie  \n",
       "39142   Nouvelle Calédonie  \n",
       "\n",
       "[211 rows x 10 columns]"
      ]
     },
     "execution_count": 48,
     "metadata": {},
     "output_type": "execute_result"
    }
   ],
   "source": [
    "df_cities[df_cities.longitude.isna()]"
   ]
  },
  {
   "cell_type": "code",
   "execution_count": 49,
   "id": "559bb93c-caf7-408f-8552-62e92f1ec7c9",
   "metadata": {},
   "outputs": [
    {
     "data": {
      "text/html": [
       "<div>\n",
       "<style scoped>\n",
       "    .dataframe tbody tr th:only-of-type {\n",
       "        vertical-align: middle;\n",
       "    }\n",
       "\n",
       "    .dataframe tbody tr th {\n",
       "        vertical-align: top;\n",
       "    }\n",
       "\n",
       "    .dataframe thead th {\n",
       "        text-align: right;\n",
       "    }\n",
       "</style>\n",
       "<table border=\"1\" class=\"dataframe\">\n",
       "  <thead>\n",
       "    <tr style=\"text-align: right;\">\n",
       "      <th></th>\n",
       "      <th>insee_code</th>\n",
       "      <th>city_code</th>\n",
       "      <th>zip_code</th>\n",
       "      <th>label</th>\n",
       "      <th>latitude</th>\n",
       "      <th>longitude</th>\n",
       "      <th>department_name</th>\n",
       "      <th>department_number</th>\n",
       "      <th>region_name</th>\n",
       "      <th>region_geojson_name</th>\n",
       "    </tr>\n",
       "  </thead>\n",
       "  <tbody>\n",
       "    <tr>\n",
       "      <th>0</th>\n",
       "      <td>25620</td>\n",
       "      <td>ville du pont</td>\n",
       "      <td>25650</td>\n",
       "      <td>ville du pont</td>\n",
       "      <td>46.999873</td>\n",
       "      <td>6.498147</td>\n",
       "      <td>doubs</td>\n",
       "      <td>25</td>\n",
       "      <td>bourgogne-franche-comté</td>\n",
       "      <td>Bourgogne-Franche-Comté</td>\n",
       "    </tr>\n",
       "    <tr>\n",
       "      <th>1</th>\n",
       "      <td>25624</td>\n",
       "      <td>villers grelot</td>\n",
       "      <td>25640</td>\n",
       "      <td>villers grelot</td>\n",
       "      <td>47.361512</td>\n",
       "      <td>6.235167</td>\n",
       "      <td>doubs</td>\n",
       "      <td>25</td>\n",
       "      <td>bourgogne-franche-comté</td>\n",
       "      <td>Bourgogne-Franche-Comté</td>\n",
       "    </tr>\n",
       "    <tr>\n",
       "      <th>2</th>\n",
       "      <td>25615</td>\n",
       "      <td>villars les blamont</td>\n",
       "      <td>25310</td>\n",
       "      <td>villars les blamont</td>\n",
       "      <td>47.368384</td>\n",
       "      <td>6.871415</td>\n",
       "      <td>doubs</td>\n",
       "      <td>25</td>\n",
       "      <td>bourgogne-franche-comté</td>\n",
       "      <td>Bourgogne-Franche-Comté</td>\n",
       "    </tr>\n",
       "    <tr>\n",
       "      <th>3</th>\n",
       "      <td>25619</td>\n",
       "      <td>les villedieu</td>\n",
       "      <td>25240</td>\n",
       "      <td>les villedieu</td>\n",
       "      <td>46.713906</td>\n",
       "      <td>6.265831</td>\n",
       "      <td>doubs</td>\n",
       "      <td>25</td>\n",
       "      <td>bourgogne-franche-comté</td>\n",
       "      <td>Bourgogne-Franche-Comté</td>\n",
       "    </tr>\n",
       "    <tr>\n",
       "      <th>4</th>\n",
       "      <td>25622</td>\n",
       "      <td>villers buzon</td>\n",
       "      <td>25170</td>\n",
       "      <td>villers buzon</td>\n",
       "      <td>47.228558</td>\n",
       "      <td>5.852187</td>\n",
       "      <td>doubs</td>\n",
       "      <td>25</td>\n",
       "      <td>bourgogne-franche-comté</td>\n",
       "      <td>Bourgogne-Franche-Comté</td>\n",
       "    </tr>\n",
       "    <tr>\n",
       "      <th>...</th>\n",
       "      <td>...</td>\n",
       "      <td>...</td>\n",
       "      <td>...</td>\n",
       "      <td>...</td>\n",
       "      <td>...</td>\n",
       "      <td>...</td>\n",
       "      <td>...</td>\n",
       "      <td>...</td>\n",
       "      <td>...</td>\n",
       "      <td>...</td>\n",
       "    </tr>\n",
       "    <tr>\n",
       "      <th>38929</th>\n",
       "      <td>97613</td>\n",
       "      <td>m tsangamouji</td>\n",
       "      <td>97650</td>\n",
       "      <td>m tsangamouji</td>\n",
       "      <td>-12.751168</td>\n",
       "      <td>45.086393</td>\n",
       "      <td>mayotte</td>\n",
       "      <td>976</td>\n",
       "      <td>mayotte</td>\n",
       "      <td>Mayotte</td>\n",
       "    </tr>\n",
       "    <tr>\n",
       "      <th>38930</th>\n",
       "      <td>97614</td>\n",
       "      <td>ouangani</td>\n",
       "      <td>97670</td>\n",
       "      <td>ouangani</td>\n",
       "      <td>-12.837567</td>\n",
       "      <td>45.138321</td>\n",
       "      <td>mayotte</td>\n",
       "      <td>976</td>\n",
       "      <td>mayotte</td>\n",
       "      <td>Mayotte</td>\n",
       "    </tr>\n",
       "    <tr>\n",
       "      <th>39104</th>\n",
       "      <td>98901</td>\n",
       "      <td>ile de clipperton</td>\n",
       "      <td>98799</td>\n",
       "      <td>ile de clipperton</td>\n",
       "      <td>10.297389</td>\n",
       "      <td>-109.221264</td>\n",
       "      <td>polynésie-française</td>\n",
       "      <td>987</td>\n",
       "      <td>polynésie-française</td>\n",
       "      <td>Polynésie française</td>\n",
       "    </tr>\n",
       "    <tr>\n",
       "      <th>39143</th>\n",
       "      <td>98612</td>\n",
       "      <td>sigave</td>\n",
       "      <td>98620</td>\n",
       "      <td>sigave</td>\n",
       "      <td>-14.270411</td>\n",
       "      <td>-178.155263</td>\n",
       "      <td>wallis-et-futuna</td>\n",
       "      <td>986</td>\n",
       "      <td>wallis-et-futuna</td>\n",
       "      <td>Wallis-et-Futuna</td>\n",
       "    </tr>\n",
       "    <tr>\n",
       "      <th>39144</th>\n",
       "      <td>98613</td>\n",
       "      <td>uvea</td>\n",
       "      <td>98600</td>\n",
       "      <td>uvea</td>\n",
       "      <td>-13.281863</td>\n",
       "      <td>-176.161928</td>\n",
       "      <td>wallis-et-futuna</td>\n",
       "      <td>986</td>\n",
       "      <td>wallis-et-futuna</td>\n",
       "      <td>Wallis-et-Futuna</td>\n",
       "    </tr>\n",
       "  </tbody>\n",
       "</table>\n",
       "<p>38934 rows × 10 columns</p>\n",
       "</div>"
      ],
      "text/plain": [
       "      insee_code            city_code zip_code                label  \\\n",
       "0          25620        ville du pont    25650        ville du pont   \n",
       "1          25624       villers grelot    25640       villers grelot   \n",
       "2          25615  villars les blamont    25310  villars les blamont   \n",
       "3          25619        les villedieu    25240        les villedieu   \n",
       "4          25622        villers buzon    25170        villers buzon   \n",
       "...          ...                  ...      ...                  ...   \n",
       "38929      97613        m tsangamouji    97650        m tsangamouji   \n",
       "38930      97614             ouangani    97670             ouangani   \n",
       "39104      98901    ile de clipperton    98799    ile de clipperton   \n",
       "39143      98612               sigave    98620               sigave   \n",
       "39144      98613                 uvea    98600                 uvea   \n",
       "\n",
       "        latitude   longitude      department_name department_number  \\\n",
       "0      46.999873    6.498147                doubs                25   \n",
       "1      47.361512    6.235167                doubs                25   \n",
       "2      47.368384    6.871415                doubs                25   \n",
       "3      46.713906    6.265831                doubs                25   \n",
       "4      47.228558    5.852187                doubs                25   \n",
       "...          ...         ...                  ...               ...   \n",
       "38929 -12.751168   45.086393              mayotte               976   \n",
       "38930 -12.837567   45.138321              mayotte               976   \n",
       "39104  10.297389 -109.221264  polynésie-française               987   \n",
       "39143 -14.270411 -178.155263     wallis-et-futuna               986   \n",
       "39144 -13.281863 -176.161928     wallis-et-futuna               986   \n",
       "\n",
       "                   region_name      region_geojson_name  \n",
       "0      bourgogne-franche-comté  Bourgogne-Franche-Comté  \n",
       "1      bourgogne-franche-comté  Bourgogne-Franche-Comté  \n",
       "2      bourgogne-franche-comté  Bourgogne-Franche-Comté  \n",
       "3      bourgogne-franche-comté  Bourgogne-Franche-Comté  \n",
       "4      bourgogne-franche-comté  Bourgogne-Franche-Comté  \n",
       "...                        ...                      ...  \n",
       "38929                  mayotte                  Mayotte  \n",
       "38930                  mayotte                  Mayotte  \n",
       "39104      polynésie-française      Polynésie française  \n",
       "39143         wallis-et-futuna         Wallis-et-Futuna  \n",
       "39144         wallis-et-futuna         Wallis-et-Futuna  \n",
       "\n",
       "[38934 rows x 10 columns]"
      ]
     },
     "execution_count": 49,
     "metadata": {},
     "output_type": "execute_result"
    }
   ],
   "source": [
    "df_cities[~df_cities.longitude.isna()]"
   ]
  },
  {
   "cell_type": "code",
   "execution_count": 124,
   "id": "2a15555e-f58b-4f47-b769-4ffa8618459d",
   "metadata": {},
   "outputs": [
    {
     "data": {
      "text/plain": [
       "True"
      ]
     },
     "execution_count": 124,
     "metadata": {},
     "output_type": "execute_result"
    }
   ],
   "source": [
    "(df_cities.loc[(df_cities.department_number == '2A'), 'zip_code'].astype(int) < 20200).all()"
   ]
  },
  {
   "cell_type": "code",
   "execution_count": 120,
   "id": "542e101a-4a95-46cd-9653-82e308625bb8",
   "metadata": {},
   "outputs": [
    {
     "data": {
      "text/plain": [
       "True"
      ]
     },
     "execution_count": 120,
     "metadata": {},
     "output_type": "execute_result"
    }
   ],
   "source": [
    "(df_cities.loc[(df_cities.department_number == '2B'), 'zip_code'].astype(int) >= 20200).all()"
   ]
  }
 ],
 "metadata": {
  "kernelspec": {
   "display_name": "Python 3 (ipykernel)",
   "language": "python",
   "name": "python3"
  },
  "language_info": {
   "codemirror_mode": {
    "name": "ipython",
    "version": 3
   },
   "file_extension": ".py",
   "mimetype": "text/x-python",
   "name": "python",
   "nbconvert_exporter": "python",
   "pygments_lexer": "ipython3",
   "version": "3.12.3"
  }
 },
 "nbformat": 4,
 "nbformat_minor": 5
}
