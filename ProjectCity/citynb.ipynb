{
 "cells": [
  {
   "cell_type": "code",
   "execution_count": 1,
   "id": "a4b8e103-c1fb-480a-a007-6b9a9a065c4c",
   "metadata": {},
   "outputs": [],
   "source": [
    "import pandas as pd"
   ]
  },
  {
   "cell_type": "code",
   "execution_count": 2,
   "id": "6f4d8021-e8a7-42b3-af4f-3e147b215181",
   "metadata": {},
   "outputs": [],
   "source": [
    "%load_ext autoreload\n",
    "%autoreload 2"
   ]
  },
  {
   "cell_type": "code",
   "execution_count": 18,
   "id": "6bc55253-f5be-4141-a259-eac7b401a318",
   "metadata": {},
   "outputs": [],
   "source": [
    "from city import City"
   ]
  },
  {
   "cell_type": "code",
   "execution_count": 20,
   "id": "afc9cbe8-57a6-47f7-bd37-acdfd3657933",
   "metadata": {},
   "outputs": [],
   "source": [
    "city01 = City(name='Bourg-en-Bresse', zipcode='01000')\n",
    "city31 = City(name='Toulouse', zipcode='31000')\n",
    "city95 = City(name='Cergy', zipcode='95000')\n",
    "city97a = City(name='Le Lamentin', zipcode='97232')\n",
    "city97b = City(name='Pointe-à-Pitre', zipcode='97110')\n",
    "city98 = City(name='Fakarava', zipcode='98790')"
   ]
  },
  {
   "cell_type": "code",
   "execution_count": 24,
   "id": "c20c46aa-1fe5-442c-8afa-f5f3dade03a8",
   "metadata": {},
   "outputs": [
    {
     "name": "stdout",
     "output_type": "stream",
     "text": [
      "01 : City(name='Bourg-en-Bresse', zipcode='01000', population=None)\n",
      "31 : City(name='Toulouse', zipcode='31000', population=None)\n",
      "95 : City(name='Cergy', zipcode='95000', population=None)\n",
      "97 : City(name='Le Lamentin', zipcode='97232', population=None)\n",
      "97 : City(name='Pointe-à-Pitre', zipcode='97100', population=None)\n",
      "98 : City(name='Fakarava', zipcode='98790', population=None)\n"
     ]
    }
   ],
   "source": [
    "for c in city01, city31, city95, city97a, city97b, city98:\n",
    "    dept = c.department()\n",
    "    print(dept, ':', c)"
   ]
  },
  {
   "cell_type": "code",
   "execution_count": null,
   "id": "854b9564-8dc7-4c5e-9cc1-719a2e7bd99b",
   "metadata": {},
   "outputs": [],
   "source": []
  }
 ],
 "metadata": {
  "kernelspec": {
   "display_name": "Python 3 (ipykernel)",
   "language": "python",
   "name": "python3"
  },
  "language_info": {
   "codemirror_mode": {
    "name": "ipython",
    "version": 3
   },
   "file_extension": ".py",
   "mimetype": "text/x-python",
   "name": "python",
   "nbconvert_exporter": "python",
   "pygments_lexer": "ipython3",
   "version": "3.12.3"
  }
 },
 "nbformat": 4,
 "nbformat_minor": 5
}
