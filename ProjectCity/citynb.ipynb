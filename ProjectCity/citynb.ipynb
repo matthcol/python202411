{
 "cells": [
  {
   "cell_type": "code",
   "execution_count": 1,
   "id": "a4b8e103-c1fb-480a-a007-6b9a9a065c4c",
   "metadata": {},
   "outputs": [],
   "source": [
    "import pandas as pd\n",
    "import numpy as np\n",
    "import matplotlib.pyplot as plt"
   ]
  },
  {
   "cell_type": "code",
   "execution_count": 2,
   "id": "6f4d8021-e8a7-42b3-af4f-3e147b215181",
   "metadata": {},
   "outputs": [],
   "source": [
    "%load_ext autoreload\n",
    "%autoreload 2"
   ]
  },
  {
   "cell_type": "code",
   "execution_count": 3,
   "id": "6bc55253-f5be-4141-a259-eac7b401a318",
   "metadata": {},
   "outputs": [],
   "source": [
    "from city import City"
   ]
  },
  {
   "cell_type": "code",
   "execution_count": 4,
   "id": "afc9cbe8-57a6-47f7-bd37-acdfd3657933",
   "metadata": {},
   "outputs": [],
   "source": [
    "city01 = City(name='Bourg-en-Bresse', zipcode='01000', population=41525)\n",
    "city31 = City(name='Toulouse', zipcode='31000', population=477000)\n",
    "city95 = City(name='Cergy', zipcode='95000')\n",
    "city97a = City(name='Le Lamentin', zipcode='97232')\n",
    "city97b = City(name='Pointe-à-Pitre', zipcode='97110')\n",
    "city98 = City(name='Fakarava', zipcode='98790')"
   ]
  },
  {
   "cell_type": "code",
   "execution_count": 5,
   "id": "c20c46aa-1fe5-442c-8afa-f5f3dade03a8",
   "metadata": {},
   "outputs": [
    {
     "name": "stdout",
     "output_type": "stream",
     "text": [
      "01 : City(name='Bourg-en-Bresse', zipcode='01000', population=41525)\n",
      "31 : City(name='Toulouse', zipcode='31000', population=477000)\n",
      "95 : City(name='Cergy', zipcode='95000', population=None)\n",
      "97 : City(name='Le Lamentin', zipcode='97232', population=None)\n",
      "97 : City(name='Pointe-à-Pitre', zipcode='97110', population=None)\n",
      "98 : City(name='Fakarava', zipcode='98790', population=None)\n"
     ]
    }
   ],
   "source": [
    "for c in city01, city31, city95, city97a, city97b, city98:\n",
    "    dept = c.department()\n",
    "    print(dept, ':', c)"
   ]
  },
  {
   "cell_type": "markdown",
   "id": "72ea2f8c-e8e1-4788-ac94-b5cc52749990",
   "metadata": {},
   "source": [
    "## Exception handling"
   ]
  },
  {
   "cell_type": "code",
   "execution_count": 7,
   "id": "52210616-6cda-441d-8435-e512667da0b5",
   "metadata": {},
   "outputs": [
    {
     "name": "stdout",
     "output_type": "stream",
     "text": [
      "Error: wrong format of city [input=this is not a city\n",
      "New city: City(name='Toulouse', zipcode='31000', population=477000)\n",
      "Error: wrong format of city [input=a,b\n",
      "New city: City(name='Pau', zipcode='64000', population=77000)\n"
     ]
    }
   ],
   "source": [
    "for city_text in [\n",
    "    'this is not a city',\n",
    "    'Toulouse,31000,477000',\n",
    "    'a,b',\n",
    "    'Pau,64000,77000'\n",
    "]:\n",
    "    try:\n",
    "        c = City.parse(city_text)\n",
    "        print(\"New city:\", c)\n",
    "        # user story to be continued here ....\n",
    "    except ValueError as ex:\n",
    "        print(f\"Error: {ex} [input={city_text}\")\n",
    "    except:\n",
    "        print('Unknown error')"
   ]
  },
  {
   "cell_type": "code",
   "execution_count": 8,
   "id": "b2fe815c-d2f2-4aca-9a45-29647dd871bf",
   "metadata": {},
   "outputs": [],
   "source": [
    "## TypeError: unsupported operand type(s) for +: 'int' and 'str'\n",
    "#3 + 'toto'"
   ]
  },
  {
   "cell_type": "markdown",
   "id": "8ccbed4a-3b48-4a01-9e76-c1ecbbf2be15",
   "metadata": {},
   "source": [
    "## Operators, buitin impl\n",
    "- +: __add__, __radd__\n",
    "- len: __len__\n",
    "- block with: __enter__, __exit__\n"
   ]
  },
  {
   "cell_type": "code",
   "execution_count": 10,
   "id": "73eda8fb-5ec4-4522-9575-b57cbdd49585",
   "metadata": {},
   "outputs": [
    {
     "data": {
      "text/plain": [
       "41529"
      ]
     },
     "execution_count": 10,
     "metadata": {},
     "output_type": "execute_result"
    }
   ],
   "source": [
    "city01 + 4"
   ]
  },
  {
   "cell_type": "code",
   "execution_count": 11,
   "id": "df0233dd-40a4-4a72-bfc3-540b5b09c4ec",
   "metadata": {},
   "outputs": [
    {
     "data": {
      "text/plain": [
       "41529"
      ]
     },
     "execution_count": 11,
     "metadata": {},
     "output_type": "execute_result"
    }
   ],
   "source": [
    "4 + city01"
   ]
  },
  {
   "cell_type": "code",
   "execution_count": 12,
   "id": "45dc61a9-0a10-4ec7-8371-aba8dd2fd50c",
   "metadata": {},
   "outputs": [
    {
     "data": {
      "text/plain": [
       "83050"
      ]
     },
     "execution_count": 12,
     "metadata": {},
     "output_type": "execute_result"
    }
   ],
   "source": [
    "city01 + city01"
   ]
  },
  {
   "cell_type": "code",
   "execution_count": 13,
   "id": "b97d7307-b1f6-482f-96aa-7b1e50b6660d",
   "metadata": {},
   "outputs": [],
   "source": [
    "city01 += 3"
   ]
  },
  {
   "cell_type": "code",
   "execution_count": 14,
   "id": "b91fc85a-7a07-475e-9fc0-6083f7c51333",
   "metadata": {},
   "outputs": [
    {
     "data": {
      "text/plain": [
       "City(name='Bourg-en-Bresse', zipcode='01000', population=41528)"
      ]
     },
     "execution_count": 14,
     "metadata": {},
     "output_type": "execute_result"
    }
   ],
   "source": [
    "city01"
   ]
  },
  {
   "cell_type": "code",
   "execution_count": 15,
   "id": "a9e85e84-4a14-4fbd-b061-124097156aaf",
   "metadata": {},
   "outputs": [
    {
     "data": {
      "text/plain": [
       "City(name='Bourg-en-Bresse', zipcode='01000', population=518528)"
      ]
     },
     "execution_count": 15,
     "metadata": {},
     "output_type": "execute_result"
    }
   ],
   "source": [
    "city01 += city31\n",
    "city01"
   ]
  },
  {
   "cell_type": "code",
   "execution_count": 69,
   "id": "608a0858-d6e5-47da-ba80-f951626a16ca",
   "metadata": {},
   "outputs": [
    {
     "ename": "TypeError",
     "evalue": "unsupported operand type(s) for +=: 'City' and 'str'",
     "output_type": "error",
     "traceback": [
      "\u001b[1;31m---------------------------------------------------------------------------\u001b[0m",
      "\u001b[1;31mTypeError\u001b[0m                                 Traceback (most recent call last)",
      "Cell \u001b[1;32mIn[69], line 1\u001b[0m\n\u001b[1;32m----> 1\u001b[0m city01 \u001b[38;5;241m+\u001b[39m\u001b[38;5;241m=\u001b[39m \u001b[38;5;124m'\u001b[39m\u001b[38;5;124mahahaha\u001b[39m\u001b[38;5;124m'\u001b[39m\n",
      "\u001b[1;31mTypeError\u001b[0m: unsupported operand type(s) for +=: 'City' and 'str'"
     ]
    }
   ],
   "source": [
    "## TypeError: unsupported operand type(s) for +=: 'City' and 'str'\n",
    "#city01 += 'ahahaha'"
   ]
  },
  {
   "cell_type": "code",
   "execution_count": 16,
   "id": "2e075a41-49cd-4412-87ff-ec1f96933c5d",
   "metadata": {},
   "outputs": [
    {
     "data": {
      "text/plain": [
       "City(name='Bourg-en-Bresse', zipcode='01000', population=518528)"
      ]
     },
     "execution_count": 16,
     "metadata": {},
     "output_type": "execute_result"
    }
   ],
   "source": [
    "city01"
   ]
  },
  {
   "cell_type": "code",
   "execution_count": 17,
   "id": "954c1cd0-11fc-4399-8f41-8166bb3b6361",
   "metadata": {},
   "outputs": [
    {
     "data": {
      "text/plain": [
       "\"City(name='Bourg-en-Bresse', zipcode='01000', population=518528)\""
      ]
     },
     "execution_count": 17,
     "metadata": {},
     "output_type": "execute_result"
    }
   ],
   "source": [
    "city01.__str__()"
   ]
  },
  {
   "cell_type": "code",
   "execution_count": 18,
   "id": "91829ede-412c-4482-ae5c-e386fa2a9678",
   "metadata": {},
   "outputs": [
    {
     "data": {
      "text/plain": [
       "\"City(name='Bourg-en-Bresse', zipcode='01000', population=518528)\""
      ]
     },
     "execution_count": 18,
     "metadata": {},
     "output_type": "execute_result"
    }
   ],
   "source": [
    "city01.__repr__()"
   ]
  },
  {
   "cell_type": "code",
   "execution_count": 19,
   "id": "31171ece-9974-4142-b611-7e44c77f1efd",
   "metadata": {},
   "outputs": [
    {
     "data": {
      "text/plain": [
       "'<__main__.B object at 0x0000021FD39D1700>'"
      ]
     },
     "execution_count": 19,
     "metadata": {},
     "output_type": "execute_result"
    }
   ],
   "source": [
    "class B:\n",
    "    pass\n",
    "\n",
    "b = B()\n",
    "b.__repr__()"
   ]
  },
  {
   "cell_type": "code",
   "execution_count": 20,
   "id": "ca67c2cb-9e87-4d1a-af76-c0cdf562143f",
   "metadata": {},
   "outputs": [
    {
     "data": {
      "text/plain": [
       "'<__main__.B object at 0x0000021FD39D1700>'"
      ]
     },
     "execution_count": 20,
     "metadata": {},
     "output_type": "execute_result"
    }
   ],
   "source": [
    "b.__str__()"
   ]
  },
  {
   "cell_type": "code",
   "execution_count": 21,
   "id": "ff4e5306-2a35-4028-a746-647081a6e588",
   "metadata": {},
   "outputs": [
    {
     "data": {
      "text/plain": [
       "\"'Toulouse'\""
      ]
     },
     "execution_count": 21,
     "metadata": {},
     "output_type": "execute_result"
    }
   ],
   "source": [
    "name = 'Toulouse'\n",
    "name.__repr__()"
   ]
  },
  {
   "cell_type": "code",
   "execution_count": 22,
   "id": "e5b795ca-6892-4b60-81ff-270b04fc5b50",
   "metadata": {},
   "outputs": [
    {
     "data": {
      "text/plain": [
       "'Toulouse'"
      ]
     },
     "execution_count": 22,
     "metadata": {},
     "output_type": "execute_result"
    }
   ],
   "source": [
    "name.__str__()"
   ]
  },
  {
   "cell_type": "code",
   "execution_count": 23,
   "id": "0e90cde0-d30d-486b-ac67-b93a15b0019e",
   "metadata": {},
   "outputs": [
    {
     "name": "stdout",
     "output_type": "stream",
     "text": [
      "Toulouse\n"
     ]
    }
   ],
   "source": [
    "print(name)"
   ]
  },
  {
   "cell_type": "code",
   "execution_count": 24,
   "id": "d2aada53-3c84-4783-a282-7c211aa2acd2",
   "metadata": {},
   "outputs": [
    {
     "data": {
      "text/plain": [
       "'Toulouse'"
      ]
     },
     "execution_count": 24,
     "metadata": {},
     "output_type": "execute_result"
    }
   ],
   "source": [
    "name"
   ]
  },
  {
   "cell_type": "code",
   "execution_count": 25,
   "id": "88bb9330-6c91-4926-a3e8-3532b4742337",
   "metadata": {},
   "outputs": [
    {
     "data": {
      "text/plain": [
       "('Toulouse', \"'Toulouse'\")"
      ]
     },
     "execution_count": 25,
     "metadata": {},
     "output_type": "execute_result"
    }
   ],
   "source": [
    "str(name), repr(name)"
   ]
  },
  {
   "cell_type": "code",
   "execution_count": 26,
   "id": "d5237246-5873-4a88-9277-1c46a0a4baab",
   "metadata": {},
   "outputs": [
    {
     "name": "stdout",
     "output_type": "stream",
     "text": [
      "Toulouse, 'Toulouse', Toulouse\n"
     ]
    }
   ],
   "source": [
    "print(f\"{name}, {name!r}, {name!s}\")"
   ]
  },
  {
   "cell_type": "code",
   "execution_count": 27,
   "id": "2a84b3e3-a8ad-483c-afea-9a47b2d1e88d",
   "metadata": {},
   "outputs": [
    {
     "data": {
      "text/plain": [
       "array([11.13702194,  7.77477825,  6.77297575, ..., 13.00923699,\n",
       "        9.77867879, 10.50878422])"
      ]
     },
     "execution_count": 27,
     "metadata": {},
     "output_type": "execute_result"
    }
   ],
   "source": [
    "data = np.random.normal(10, 2.5, 100_000)\n",
    "data # call repr"
   ]
  },
  {
   "cell_type": "code",
   "execution_count": 28,
   "id": "90f9a99d-472f-45de-9392-f670e27cf0c8",
   "metadata": {},
   "outputs": [
    {
     "name": "stdout",
     "output_type": "stream",
     "text": [
      "[11.13702194  7.77477825  6.77297575 ... 13.00923699  9.77867879\n",
      " 10.50878422]\n"
     ]
    }
   ],
   "source": [
    "print(data) # call str"
   ]
  },
  {
   "cell_type": "code",
   "execution_count": 29,
   "id": "ff9faf2b-e47b-427a-ba3f-061a95c47d3b",
   "metadata": {
    "scrolled": true
   },
   "outputs": [
    {
     "data": {
      "image/png": "[encoded data removed]",
      "text/plain": [
       "<Figure size 640x480 with 1 Axes>"
      ]
     },
     "metadata": {},
     "output_type": "display_data"
    }
   ],
   "source": [
    "_ = plt.hist(data, bins=100)"
   ]
  },
  {
   "cell_type": "code",
   "execution_count": 30,
   "id": "a255e45c-77ab-4e91-a34c-368e30ff1c75",
   "metadata": {},
   "outputs": [],
   "source": [
    "x = np.linspace(0, 4*np.pi, 100_000)\n",
    "y = np.sin(x)\n",
    "z = np.cos(x)"
   ]
  },
  {
   "cell_type": "code",
   "execution_count": 31,
   "id": "d2483fac-a609-49d3-9077-1bd9b5e32bb9",
   "metadata": {},
   "outputs": [
    {
     "data": {
      "text/plain": [
       "[<matplotlib.lines.Line2D at 0x21fd4395520>,\n",
       " <matplotlib.lines.Line2D at 0x21fd4395550>]"
      ]
     },
     "execution_count": 31,
     "metadata": {},
     "output_type": "execute_result"
    },
    {
     "data": {
      "image/png": "[encoded data removed]",
      "text/plain": [
       "<Figure size 640x480 with 1 Axes>"
      ]
     },
     "metadata": {},
     "output_type": "display_data"
    }
   ],
   "source": [
    "plt.plot(x, y, 'r', x, z, 'g')"
   ]
  },
  {
   "cell_type": "code",
   "execution_count": 32,
   "id": "b0ec4a2a-0c2d-4769-98e9-b53161722ba0",
   "metadata": {},
   "outputs": [],
   "source": [
    "assert len(x) == 100_000"
   ]
  },
  {
   "cell_type": "code",
   "execution_count": 33,
   "id": "be8788eb-a4e8-4297-97f8-7336412eb47b",
   "metadata": {},
   "outputs": [
    {
     "data": {
      "text/plain": [
       "array([1.        , 1.00012566, 1.0002513 , ..., 0.99974864, 0.99987433,\n",
       "       1.        ])"
      ]
     },
     "execution_count": 33,
     "metadata": {},
     "output_type": "execute_result"
    }
   ],
   "source": [
    "# new array\n",
    "w = y + z\n",
    "w"
   ]
  },
  {
   "cell_type": "code",
   "execution_count": 34,
   "id": "4b61db05-6f17-4ee1-91c4-4bed9f44df50",
   "metadata": {},
   "outputs": [
    {
     "data": {
      "text/plain": [
       "array([ 1.        ,  1.00012566,  1.0002513 , ..., 13.56611925,\n",
       "       13.56624494, 13.56637061])"
      ]
     },
     "execution_count": 34,
     "metadata": {},
     "output_type": "execute_result"
    }
   ],
   "source": [
    "z += x\n",
    "z"
   ]
  },
  {
   "cell_type": "code",
   "execution_count": 35,
   "id": "0f6be48e-2c72-41db-abcb-42a78e9bf70f",
   "metadata": {},
   "outputs": [
    {
     "data": {
      "text/plain": [
       "array([ 1.01      ,  1.01012566,  1.0102513 , ..., 13.57611925,\n",
       "       13.57624494, 13.57637061])"
      ]
     },
     "execution_count": 35,
     "metadata": {},
     "output_type": "execute_result"
    }
   ],
   "source": [
    "z += 0.01\n",
    "z"
   ]
  },
  {
   "cell_type": "code",
   "execution_count": 71,
   "id": "65121200-88a6-49f6-bc72-5da45a8d1e63",
   "metadata": {},
   "outputs": [
    {
     "data": {
      "text/plain": [
       "-99998.99986840395"
      ]
     },
     "execution_count": 71,
     "metadata": {},
     "output_type": "execute_result"
    }
   ],
   "source": [
    "x @ y"
   ]
  },
  {
   "cell_type": "code",
   "execution_count": 75,
   "id": "8cced7bc-0eff-417d-a447-ef11d3bfa266",
   "metadata": {},
   "outputs": [
    {
     "data": {
      "text/plain": [
       "array([[0.        , 0.00012566, 0.00025133, 0.00037699, 0.00050266],\n",
       "       [0.0125665 , 0.01269216, 0.01281783, 0.01294349, 0.01306916],\n",
       "       [0.02513299, 0.02525866, 0.02538432, 0.02550999, 0.02563565],\n",
       "       [0.03769949, 0.03782515, 0.03795082, 0.03807648, 0.03820215],\n",
       "       [0.05026599, 0.05039165, 0.05051732, 0.05064298, 0.05076864]])"
      ]
     },
     "execution_count": 75,
     "metadata": {},
     "output_type": "execute_result"
    }
   ],
   "source": [
    "w = x.reshape((1000,100))\n",
    "w[:5, :5] "
   ]
  }
 ],
 "metadata": {
  "kernelspec": {
   "display_name": "Python 3 (ipykernel)",
   "language": "python",
   "name": "python3"
  },
  "language_info": {
   "codemirror_mode": {
    "name": "ipython",
    "version": 3
   },
   "file_extension": ".py",
   "mimetype": "text/x-python",
   "name": "python",
   "nbconvert_exporter": "python",
   "pygments_lexer": "ipython3",
   "version": "3.12.3"
  }
 },
 "nbformat": 4,
 "nbformat_minor": 5
}
