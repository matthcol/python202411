{
 "cells": [
  {
   "cell_type": "markdown",
   "id": "159cd994-b617-40b4-844d-9ba6fdc0f3d1",
   "metadata": {},
   "source": [
    "# Python basics"
   ]
  },
  {
   "cell_type": "markdown",
   "id": "c91ee05f-db94-4570-a12e-3421516674b5",
   "metadata": {},
   "source": [
    "## Introduction"
   ]
  },
  {
   "cell_type": "code",
   "execution_count": 3,
   "id": "ffc58962-2442-4d9c-927c-2a6820d471bd",
   "metadata": {},
   "outputs": [
    {
     "name": "stdout",
     "output_type": "stream",
     "text": [
      "I love Python !\n",
      "Bientôt la pause café\n"
     ]
    }
   ],
   "source": [
    "print('I love Python !')\n",
    "print('Bientôt la pause café')"
   ]
  },
  {
   "cell_type": "markdown",
   "id": "8b6d91f6-46e3-4dd5-8347-ca03f801de61",
   "metadata": {},
   "source": [
    "## Variables and basic types\n",
    "- text: str\n",
    "- numeric: int, float (IEEE754)"
   ]
  },
  {
   "cell_type": "code",
   "execution_count": 5,
   "id": "463c42ba-9ab5-4334-b9c9-642e1aabaec5",
   "metadata": {},
   "outputs": [],
   "source": [
    "city1 = 'Toulouse'\n",
    "city2 = \"Tournefeuille\""
   ]
  },
  {
   "cell_type": "code",
   "execution_count": 6,
   "id": "a8674067-a953-47e2-a4aa-bda834b58460",
   "metadata": {},
   "outputs": [
    {
     "data": {
      "text/plain": [
       "'Toulouse'"
      ]
     },
     "execution_count": 6,
     "metadata": {},
     "output_type": "execute_result"
    }
   ],
   "source": [
    "city1"
   ]
  },
  {
   "cell_type": "code",
   "execution_count": 7,
   "id": "47d596cc-31c5-4eb9-b8c8-cb909284111d",
   "metadata": {},
   "outputs": [
    {
     "data": {
      "text/plain": [
       "str"
      ]
     },
     "execution_count": 7,
     "metadata": {},
     "output_type": "execute_result"
    }
   ],
   "source": [
    "type(city1)"
   ]
  },
  {
   "cell_type": "code",
   "execution_count": 8,
   "id": "6610ef73-9e3b-4fc4-9a9b-521de810f395",
   "metadata": {},
   "outputs": [
    {
     "data": {
      "text/plain": [
       "8"
      ]
     },
     "execution_count": 8,
     "metadata": {},
     "output_type": "execute_result"
    }
   ],
   "source": [
    "len(city1)"
   ]
  },
  {
   "cell_type": "code",
   "execution_count": 9,
   "id": "c7923fac-1663-4ff6-b482-a99a60ea6e36",
   "metadata": {},
   "outputs": [],
   "source": [
    "population = 470_000\n",
    "temperature = 14.3"
   ]
  },
  {
   "cell_type": "code",
   "execution_count": 10,
   "id": "0a0fce7b-8412-4429-80da-eaf0e89168e5",
   "metadata": {},
   "outputs": [
    {
     "data": {
      "text/plain": [
       "float"
      ]
     },
     "execution_count": 10,
     "metadata": {},
     "output_type": "execute_result"
    }
   ],
   "source": [
    "type(temperature)"
   ]
  },
  {
   "cell_type": "code",
   "execution_count": 11,
   "id": "f8565a8f-56bc-41b4-8d07-a5e7e6475528",
   "metadata": {},
   "outputs": [
    {
     "data": {
      "text/plain": [
       "int"
      ]
     },
     "execution_count": 11,
     "metadata": {},
     "output_type": "execute_result"
    }
   ],
   "source": [
    "type(population)"
   ]
  },
  {
   "cell_type": "code",
   "execution_count": 12,
   "id": "668be87b-567c-43a1-af59-f889301e2dba",
   "metadata": {},
   "outputs": [
    {
     "data": {
      "text/plain": [
       "\"aujourd'hui\""
      ]
     },
     "execution_count": 12,
     "metadata": {},
     "output_type": "execute_result"
    }
   ],
   "source": [
    "mot = \"aujourd'hui\"\n",
    "mot"
   ]
  },
  {
   "cell_type": "code",
   "execution_count": 13,
   "id": "b391a190-acac-4e0c-9133-837017d53a5e",
   "metadata": {},
   "outputs": [
    {
     "name": "stdout",
     "output_type": "stream",
     "text": [
      "aujourd'hui, je dis: \"Python c'est super !\"\n"
     ]
    },
    {
     "data": {
      "text/plain": [
       "'aujourd\\'hui, je dis: \"Python c\\'est super !\"'"
      ]
     },
     "execution_count": 13,
     "metadata": {},
     "output_type": "execute_result"
    }
   ],
   "source": [
    "texte = 'aujourd\\'hui, je dis: \"Python c\\'est super !\"'\n",
    "print(texte)\n",
    "texte"
   ]
  },
  {
   "cell_type": "code",
   "execution_count": 14,
   "id": "ba159fa9-18a2-49a3-942c-5b2fb305e536",
   "metadata": {},
   "outputs": [
    {
     "data": {
      "text/plain": [
       "10000000000000000000000000000000000000000000000000000000000000000000000000000000000000000000000000000000000000000000000000000000000000000000000000000000000000000000000000000000000000000000000000000000000000000000000000000000000000000000000000000000000000000000000000000000000000000000000000000000000000000000000000000000000000000000000000000000000000000000000000000000000000000000000000000002"
      ]
     },
     "execution_count": 14,
     "metadata": {},
     "output_type": "execute_result"
    }
   ],
   "source": [
    "x = 10000000000000000000000000000000000000000000000000000000000000000000000000000000000000000000000000000000000000000000000000000000000000000000000000000000000000000000000000000000000000000000000000000000000000000000000000000000000000000000000000000000000000000000000000000000000000000000000000000000000000000000000000000000000000000000000000000000000000000000000000000000000000000000000000000002\n",
    "x"
   ]
  },
  {
   "cell_type": "code",
   "execution_count": 15,
   "id": "6f66332d-664b-4dba-b9c0-f678958b206c",
   "metadata": {},
   "outputs": [
    {
     "data": {
      "text/plain": [
       "10000000000000000000000000000000000000000000000000000000000000000000000000000000000000000000000000000000000000000000000000000000000000000000000000000000000000000000000000000000000000000000000000000000000000000000000000000000000000000000000000000000000000000000000000000000000000000000000000000000000000000000000000000000000000000000000000000000000000000000000000000000000000000000000000123458"
      ]
     },
     "execution_count": 15,
     "metadata": {},
     "output_type": "execute_result"
    }
   ],
   "source": [
    "x + 123456"
   ]
  },
  {
   "cell_type": "code",
   "execution_count": 16,
   "id": "35749daa-599e-4071-9ab2-5d123e5ff91f",
   "metadata": {},
   "outputs": [
    {
     "data": {
      "text/plain": [
       "1e+308"
      ]
     },
     "execution_count": 16,
     "metadata": {},
     "output_type": "execute_result"
    }
   ],
   "source": [
    "big_distance = 1E308\n",
    "big_distance"
   ]
  },
  {
   "cell_type": "code",
   "execution_count": 17,
   "id": "483c4320-40b7-4434-a4a9-425090b9d71a",
   "metadata": {},
   "outputs": [
    {
     "data": {
      "text/plain": [
       "inf"
      ]
     },
     "execution_count": 17,
     "metadata": {},
     "output_type": "execute_result"
    }
   ],
   "source": [
    "big_distance*2"
   ]
  },
  {
   "cell_type": "code",
   "execution_count": 18,
   "id": "dd765c33-da33-4588-86e4-fc85ac6553f2",
   "metadata": {},
   "outputs": [
    {
     "data": {
      "text/plain": [
       "inf"
      ]
     },
     "execution_count": 18,
     "metadata": {},
     "output_type": "execute_result"
    }
   ],
   "source": [
    "float('inf')"
   ]
  },
  {
   "cell_type": "code",
   "execution_count": 19,
   "id": "9fb1a7d6-eb65-4ecc-9577-2f638d71fb4f",
   "metadata": {},
   "outputs": [
    {
     "data": {
      "text/plain": [
       "nan"
      ]
     },
     "execution_count": 19,
     "metadata": {},
     "output_type": "execute_result"
    }
   ],
   "source": [
    "float('nan')"
   ]
  },
  {
   "cell_type": "code",
   "execution_count": 20,
   "id": "e1363b0e-1f71-4676-8acb-71a79e33470c",
   "metadata": {},
   "outputs": [],
   "source": [
    "## TypeError: object of type 'float' has no len()\n",
    "#len(temperature)"
   ]
  },
  {
   "cell_type": "code",
   "execution_count": 21,
   "id": "3983b9d2-28d6-4728-bc89-285a36580b26",
   "metadata": {},
   "outputs": [],
   "source": [
    "None"
   ]
  },
  {
   "cell_type": "code",
   "execution_count": 22,
   "id": "b5b1671c-ebe9-488d-aea0-84344b57554e",
   "metadata": {},
   "outputs": [
    {
     "data": {
      "text/plain": [
       "NoneType"
      ]
     },
     "execution_count": 22,
     "metadata": {},
     "output_type": "execute_result"
    }
   ],
   "source": [
    "type(None)"
   ]
  },
  {
   "cell_type": "code",
   "execution_count": 23,
   "id": "a2630b7e-f14a-4103-a45d-4d8be5fe01b8",
   "metadata": {},
   "outputs": [
    {
     "data": {
      "text/plain": [
       "(True, False)"
      ]
     },
     "execution_count": 23,
     "metadata": {},
     "output_type": "execute_result"
    }
   ],
   "source": [
    "True, False"
   ]
  },
  {
   "cell_type": "code",
   "execution_count": 24,
   "id": "82ff1027-35f6-4261-b0e3-67de8e658767",
   "metadata": {},
   "outputs": [
    {
     "data": {
      "text/plain": [
       "bool"
      ]
     },
     "execution_count": 24,
     "metadata": {},
     "output_type": "execute_result"
    }
   ],
   "source": [
    "type(True)"
   ]
  },
  {
   "cell_type": "markdown",
   "id": "8c232c10-a42b-4113-afc9-fe0dac539cd6",
   "metadata": {},
   "source": [
    "## Operators"
   ]
  },
  {
   "cell_type": "code",
   "execution_count": 26,
   "id": "09547524-22f5-41bf-8ad7-11c7cdf019a0",
   "metadata": {},
   "outputs": [
    {
     "data": {
      "text/plain": [
       "1410020"
      ]
     },
     "execution_count": 26,
     "metadata": {},
     "output_type": "execute_result"
    }
   ],
   "source": [
    "(population + 10) * 3 - 10 "
   ]
  },
  {
   "cell_type": "code",
   "execution_count": 27,
   "id": "6def2b32-92ac-4c77-b2bf-898d17b30f48",
   "metadata": {},
   "outputs": [
    {
     "data": {
      "text/plain": [
       "4.7"
      ]
     },
     "execution_count": 27,
     "metadata": {},
     "output_type": "execute_result"
    }
   ],
   "source": [
    "population / 100000"
   ]
  },
  {
   "cell_type": "code",
   "execution_count": 28,
   "id": "51536a70-35e7-4d26-9949-911a012e1cd4",
   "metadata": {},
   "outputs": [
    {
     "data": {
      "text/plain": [
       "4"
      ]
     },
     "execution_count": 28,
     "metadata": {},
     "output_type": "execute_result"
    }
   ],
   "source": [
    "population // 100000"
   ]
  },
  {
   "cell_type": "code",
   "execution_count": 29,
   "id": "5ff0b2b4-c84e-46ba-96ee-c7f2181ab2ad",
   "metadata": {},
   "outputs": [
    {
     "data": {
      "text/plain": [
       "70000"
      ]
     },
     "execution_count": 29,
     "metadata": {},
     "output_type": "execute_result"
    }
   ],
   "source": [
    "population % 100000"
   ]
  },
  {
   "cell_type": "code",
   "execution_count": 30,
   "id": "91d181ec-e577-44e4-b115-5961a1995c95",
   "metadata": {},
   "outputs": [
    {
     "data": {
      "text/plain": [
       "18446744073709551616"
      ]
     },
     "execution_count": 30,
     "metadata": {},
     "output_type": "execute_result"
    }
   ],
   "source": [
    "2**64"
   ]
  },
  {
   "cell_type": "code",
   "execution_count": 31,
   "id": "bc1f4a84-9e37-4038-a408-425295fc62da",
   "metadata": {},
   "outputs": [
    {
     "data": {
      "text/plain": [
       "-470000"
      ]
     },
     "execution_count": 31,
     "metadata": {},
     "output_type": "execute_result"
    }
   ],
   "source": [
    "- population"
   ]
  },
  {
   "cell_type": "code",
   "execution_count": 32,
   "id": "9886cf41-6aa0-4105-a241-2b459cf59867",
   "metadata": {},
   "outputs": [
    {
     "data": {
      "text/plain": [
       "True"
      ]
     },
     "execution_count": 32,
     "metadata": {},
     "output_type": "execute_result"
    }
   ],
   "source": [
    "not ((population < 10000) and ((temperature < 10.0) or (temperature > 20.0)))"
   ]
  },
  {
   "cell_type": "code",
   "execution_count": 33,
   "id": "1be79cb8-4fbc-4e31-a8c8-711db45c61dc",
   "metadata": {},
   "outputs": [
    {
     "name": "stdout",
     "output_type": "stream",
     "text": [
      "True\n",
      "True\n",
      "False\n",
      "False\n",
      "False\n",
      "True\n"
     ]
    }
   ],
   "source": [
    "# order comparison\n",
    "print(population >= 100)\n",
    "print(population > 100)\n",
    "print(population < 100)\n",
    "print(population <= 100)\n",
    "# equivalence comparison\n",
    "print(population == 100)\n",
    "print(population != 100)"
   ]
  },
  {
   "cell_type": "code",
   "execution_count": 34,
   "id": "5972b220-9a4d-45bd-bced-94f90bedd352",
   "metadata": {},
   "outputs": [
    {
     "data": {
      "text/plain": [
       "True"
      ]
     },
     "execution_count": 34,
     "metadata": {},
     "output_type": "execute_result"
    }
   ],
   "source": [
    "3 in [1, 2, 4, 10, 3]"
   ]
  },
  {
   "cell_type": "code",
   "execution_count": 35,
   "id": "568421c4-fd3d-4840-9c0c-2f54a30a05b4",
   "metadata": {},
   "outputs": [
    {
     "data": {
      "text/plain": [
       "False"
      ]
     },
     "execution_count": 35,
     "metadata": {},
     "output_type": "execute_result"
    }
   ],
   "source": [
    "3 not in [1, 2, 4, 10, 3]"
   ]
  },
  {
   "cell_type": "code",
   "execution_count": 36,
   "id": "4d1bdf03-de55-4bdf-a32a-cb69c4db943d",
   "metadata": {},
   "outputs": [
    {
     "name": "stdout",
     "output_type": "stream",
     "text": [
      "False\n",
      "True\n",
      "True\n",
      "False\n"
     ]
    }
   ],
   "source": [
    "x = 3\n",
    "print(x is None)\n",
    "print(x is not None)\n",
    "x = None\n",
    "print(x is None)\n",
    "print(x is not None)"
   ]
  },
  {
   "cell_type": "code",
   "execution_count": 37,
   "id": "1cbc2b7a-d539-4f78-a38a-9d8715a46f51",
   "metadata": {},
   "outputs": [],
   "source": [
    "numbers1 = [1, 4, 6, 2]\n",
    "numbers2 = [1, 4, 6, 2]\n",
    "numbers3 = numbers2"
   ]
  },
  {
   "cell_type": "code",
   "execution_count": 38,
   "id": "6f48e9f0-d621-498a-854c-7a9e2e475211",
   "metadata": {},
   "outputs": [
    {
     "name": "stdout",
     "output_type": "stream",
     "text": [
      "True\n",
      "False\n"
     ]
    }
   ],
   "source": [
    "print(numbers1 == numbers2)\n",
    "print(numbers1 is numbers2)"
   ]
  },
  {
   "cell_type": "code",
   "execution_count": 39,
   "id": "ffb5e252-a203-44a1-a1df-8c447c6d4877",
   "metadata": {},
   "outputs": [
    {
     "name": "stdout",
     "output_type": "stream",
     "text": [
      "True\n",
      "True\n"
     ]
    }
   ],
   "source": [
    "print(numbers3 == numbers2)\n",
    "print(numbers3 is numbers2)"
   ]
  },
  {
   "cell_type": "code",
   "execution_count": 40,
   "id": "56fbfab6-9ae6-46bd-bd22-dc55004aa3c4",
   "metadata": {},
   "outputs": [
    {
     "name": "stdout",
     "output_type": "stream",
     "text": [
      "[1, 100, 6, 2]\n",
      "[1, 100, 6, 2]\n"
     ]
    }
   ],
   "source": [
    "numbers2[1] = 100\n",
    "print(numbers2)\n",
    "print(numbers3)"
   ]
  },
  {
   "cell_type": "code",
   "execution_count": 41,
   "id": "67335be6-b26b-4274-af4d-ae5fa0bb9bdc",
   "metadata": {},
   "outputs": [
    {
     "data": {
      "text/plain": [
       "[1, 4, 6, 2]"
      ]
     },
     "execution_count": 41,
     "metadata": {},
     "output_type": "execute_result"
    }
   ],
   "source": [
    "numbers1"
   ]
  },
  {
   "cell_type": "markdown",
   "id": "6a2af523-b3c8-47c3-9e45-1057d16dc95f",
   "metadata": {},
   "source": [
    "### bitwise operators\n",
    "```\n",
    "^ (xor)\n",
    "& (and)\n",
    "| (or)\n",
    "~ (not)\n",
    "<< (left shift) \n",
    ">> (right shift)\n",
    "```"
   ]
  },
  {
   "cell_type": "code",
   "execution_count": 43,
   "id": "39bd5b64-cc72-45c0-8148-a511517d205c",
   "metadata": {},
   "outputs": [
    {
     "data": {
      "text/plain": [
       "66"
      ]
     },
     "execution_count": 43,
     "metadata": {},
     "output_type": "execute_result"
    }
   ],
   "source": [
    "# 2 = 000010, 64 = 100000   =>  66 = 100010\n",
    "2 ^ 64"
   ]
  },
  {
   "cell_type": "code",
   "execution_count": 44,
   "id": "9e50649d-32ec-4e4d-b0d2-50b049715421",
   "metadata": {},
   "outputs": [
    {
     "data": {
      "text/plain": [
       "-3"
      ]
     },
     "execution_count": 44,
     "metadata": {},
     "output_type": "execute_result"
    }
   ],
   "source": [
    "~2"
   ]
  },
  {
   "cell_type": "code",
   "execution_count": 45,
   "id": "51095768-ea49-4afa-891d-e9f8beb59c43",
   "metadata": {},
   "outputs": [
    {
     "data": {
      "text/plain": [
       "4"
      ]
     },
     "execution_count": 45,
     "metadata": {},
     "output_type": "execute_result"
    }
   ],
   "source": [
    "x = 2\n",
    "x<<1"
   ]
  },
  {
   "cell_type": "markdown",
   "id": "51c4c464-b4e4-47d2-a308-180cd10b50be",
   "metadata": {},
   "source": [
    "## containers\n",
    "- list: [1, 2, 4] => index, mutable (add, remove, replace)\n",
    "- tuple: (1, 2, 4) => index, not mutable\n",
    "- dict: {name: 'Toulouse', population: 470_000}\n",
    "- set: {1, 2, 4}  => no doubles, no index"
   ]
  },
  {
   "cell_type": "markdown",
   "id": "603e6ddd-8b49-4f1b-959a-a3625a5cdb15",
   "metadata": {},
   "source": [
    "### sets"
   ]
  },
  {
   "cell_type": "code",
   "execution_count": 48,
   "id": "18b591c3-4056-48eb-a86a-1551a58b5c70",
   "metadata": {},
   "outputs": [
    {
     "data": {
      "text/plain": [
       "True"
      ]
     },
     "execution_count": 48,
     "metadata": {},
     "output_type": "execute_result"
    }
   ],
   "source": [
    "{1, 2, 4} == {4, 2, 1}"
   ]
  },
  {
   "cell_type": "code",
   "execution_count": 49,
   "id": "a7ced3a5-1006-4302-827a-0514ca0dca68",
   "metadata": {},
   "outputs": [
    {
     "data": {
      "text/plain": [
       "False"
      ]
     },
     "execution_count": 49,
     "metadata": {},
     "output_type": "execute_result"
    }
   ],
   "source": [
    "{1, 2, 4} is {4, 2, 1}"
   ]
  },
  {
   "cell_type": "code",
   "execution_count": 50,
   "id": "09843424-4759-4e1a-92c2-b9ce931039b3",
   "metadata": {},
   "outputs": [
    {
     "data": {
      "text/plain": [
       "{1, 2, 4, 7, 8}"
      ]
     },
     "execution_count": 50,
     "metadata": {},
     "output_type": "execute_result"
    }
   ],
   "source": [
    "s = {1, 2, 4, 2, 7, 8, 7, 1}\n",
    "s"
   ]
  },
  {
   "cell_type": "code",
   "execution_count": 51,
   "id": "eec188b9-01e2-43c2-a420-e5f4ac3a5f82",
   "metadata": {},
   "outputs": [
    {
     "data": {
      "text/plain": [
       "{1, 2, 4, 6, 7, 8}"
      ]
     },
     "execution_count": 51,
     "metadata": {},
     "output_type": "execute_result"
    }
   ],
   "source": [
    "s.add(4)\n",
    "s.add(6)\n",
    "s"
   ]
  },
  {
   "cell_type": "code",
   "execution_count": 52,
   "id": "22ecfad2-d2ed-4a49-855d-238971ac56c5",
   "metadata": {},
   "outputs": [
    {
     "data": {
      "text/plain": [
       "6"
      ]
     },
     "execution_count": 52,
     "metadata": {},
     "output_type": "execute_result"
    }
   ],
   "source": [
    "len(s)"
   ]
  },
  {
   "cell_type": "code",
   "execution_count": 53,
   "id": "87ab1aa6-c318-44e5-b44a-c0cefd8e423a",
   "metadata": {},
   "outputs": [
    {
     "data": {
      "text/plain": [
       "{1, 2, 4, 6, 7, 8, 10}"
      ]
     },
     "execution_count": 53,
     "metadata": {},
     "output_type": "execute_result"
    }
   ],
   "source": [
    "s.union({1,7,2,10})"
   ]
  },
  {
   "cell_type": "code",
   "execution_count": 54,
   "id": "0653864d-0cce-4a11-8ad8-2949bd2ffc6f",
   "metadata": {},
   "outputs": [
    {
     "data": {
      "text/plain": [
       "\u001b[1;31mDocstring:\u001b[0m\n",
       "Return the union of sets as a new set.\n",
       "\n",
       "(i.e. all elements that are in either set.)\n",
       "\u001b[1;31mType:\u001b[0m      builtin_function_or_method"
      ]
     },
     "metadata": {},
     "output_type": "display_data"
    }
   ],
   "source": [
    "s.union?"
   ]
  },
  {
   "cell_type": "markdown",
   "id": "40cf3a82-7586-4cb5-9342-b149701724a6",
   "metadata": {},
   "source": [
    "### lists"
   ]
  },
  {
   "cell_type": "code",
   "execution_count": 56,
   "id": "d993c5f5-13f2-46b1-8cac-9b70fa062226",
   "metadata": {},
   "outputs": [],
   "source": [
    "numbers = [1, 4, 6, 2]"
   ]
  },
  {
   "cell_type": "code",
   "execution_count": 57,
   "id": "912f0cef-bd3a-4738-917a-693be2305228",
   "metadata": {},
   "outputs": [
    {
     "data": {
      "text/plain": [
       "list"
      ]
     },
     "execution_count": 57,
     "metadata": {},
     "output_type": "execute_result"
    }
   ],
   "source": [
    "type(numbers)"
   ]
  },
  {
   "cell_type": "code",
   "execution_count": 58,
   "id": "726dc193-e87c-4a58-b0f6-e10851cb5f67",
   "metadata": {},
   "outputs": [
    {
     "data": {
      "text/plain": [
       "[1, 4, 6, 2, 'faut pas le faire']"
      ]
     },
     "execution_count": 58,
     "metadata": {},
     "output_type": "execute_result"
    }
   ],
   "source": [
    "numbers.append('faut pas le faire')\n",
    "numbers"
   ]
  },
  {
   "cell_type": "code",
   "execution_count": 59,
   "id": "f3d338f6-2e1e-408d-9abf-3269560cc94d",
   "metadata": {},
   "outputs": [
    {
     "data": {
      "text/plain": [
       "'faut pas le faire'"
      ]
     },
     "execution_count": 59,
     "metadata": {},
     "output_type": "execute_result"
    }
   ],
   "source": [
    "numbers[4]"
   ]
  },
  {
   "cell_type": "code",
   "execution_count": 60,
   "id": "1efa4ae8-8073-4460-8807-9c50574fc3ac",
   "metadata": {},
   "outputs": [
    {
     "data": {
      "text/plain": [
       "'faut pas le faire'"
      ]
     },
     "execution_count": 60,
     "metadata": {},
     "output_type": "execute_result"
    }
   ],
   "source": [
    "numbers[-1]"
   ]
  },
  {
   "cell_type": "code",
   "execution_count": 61,
   "id": "18e244d8-90fd-4c61-b2a0-94339fcf2102",
   "metadata": {},
   "outputs": [
    {
     "data": {
      "text/plain": [
       "[1, 4, 6, 2]"
      ]
     },
     "execution_count": 61,
     "metadata": {},
     "output_type": "execute_result"
    }
   ],
   "source": [
    "del numbers[-1]\n",
    "numbers"
   ]
  },
  {
   "cell_type": "code",
   "execution_count": 62,
   "id": "9e21ecb3-a54b-499a-9229-a4c21c0fb93b",
   "metadata": {},
   "outputs": [
    {
     "data": {
      "text/plain": [
       "4"
      ]
     },
     "execution_count": 62,
     "metadata": {},
     "output_type": "execute_result"
    }
   ],
   "source": [
    "len(numbers)"
   ]
  },
  {
   "cell_type": "code",
   "execution_count": 63,
   "id": "d788334b-0943-435f-b88f-e87e26850589",
   "metadata": {},
   "outputs": [
    {
     "data": {
      "text/plain": [
       "['T', 'o', 'u', 'l', 'o', 'u', 's', 'e']"
      ]
     },
     "execution_count": 63,
     "metadata": {},
     "output_type": "execute_result"
    }
   ],
   "source": [
    "list(city1)"
   ]
  },
  {
   "cell_type": "code",
   "execution_count": 64,
   "id": "111908ec-6a2d-4c31-b0a0-516c316ff9bb",
   "metadata": {},
   "outputs": [
    {
     "data": {
      "text/plain": [
       "[1, 2, 4, 6, 7, 8]"
      ]
     },
     "execution_count": 64,
     "metadata": {},
     "output_type": "execute_result"
    }
   ],
   "source": [
    "list(s)"
   ]
  },
  {
   "cell_type": "code",
   "execution_count": 65,
   "id": "03790d1a-61d3-4d00-9548-98c0049b0cce",
   "metadata": {},
   "outputs": [],
   "source": [
    "## TypeError: 'float' object is not iterable\n",
    "#list(temperature)"
   ]
  },
  {
   "cell_type": "code",
   "execution_count": 66,
   "id": "60933099-fe91-49f0-bd33-ba96dde5125c",
   "metadata": {},
   "outputs": [
    {
     "data": {
      "text/plain": [
       "[1, 100, 6, 2]"
      ]
     },
     "execution_count": 66,
     "metadata": {},
     "output_type": "execute_result"
    }
   ],
   "source": [
    "numbers[1] = 100\n",
    "numbers"
   ]
  },
  {
   "cell_type": "markdown",
   "id": "83dd629b-6836-431c-813f-673d7bce1840",
   "metadata": {},
   "source": [
    "### slices"
   ]
  },
  {
   "cell_type": "code",
   "execution_count": 68,
   "id": "d6e11312-c770-48da-a3f5-e96383fd3a46",
   "metadata": {},
   "outputs": [
    {
     "data": {
      "text/plain": [
       "[1]"
      ]
     },
     "execution_count": 68,
     "metadata": {},
     "output_type": "execute_result"
    }
   ],
   "source": [
    "numbers[:1]"
   ]
  },
  {
   "cell_type": "code",
   "execution_count": 69,
   "id": "32b93f54-8c3c-4ff2-ae95-712f56e2d179",
   "metadata": {},
   "outputs": [
    {
     "data": {
      "text/plain": [
       "[100, 6]"
      ]
     },
     "execution_count": 69,
     "metadata": {},
     "output_type": "execute_result"
    }
   ],
   "source": [
    "numbers[1:3]"
   ]
  },
  {
   "cell_type": "code",
   "execution_count": 70,
   "id": "0f34110c-5c72-4b2b-b9d7-e21ed215ade4",
   "metadata": {},
   "outputs": [
    {
     "data": {
      "text/plain": [
       "[2]"
      ]
     },
     "execution_count": 70,
     "metadata": {},
     "output_type": "execute_result"
    }
   ],
   "source": [
    "numbers[3:]"
   ]
  },
  {
   "cell_type": "code",
   "execution_count": 71,
   "id": "a7f7c3b5-bb12-4013-8278-41423306f816",
   "metadata": {},
   "outputs": [
    {
     "data": {
      "text/plain": [
       "'Toul'"
      ]
     },
     "execution_count": 71,
     "metadata": {},
     "output_type": "execute_result"
    }
   ],
   "source": [
    "# 4 premiers\n",
    "city1[:4]"
   ]
  },
  {
   "cell_type": "code",
   "execution_count": 72,
   "id": "e639d859-2840-4383-9065-7d51d4e5b4ad",
   "metadata": {},
   "outputs": [
    {
     "data": {
      "text/plain": [
       "'ouse'"
      ]
     },
     "execution_count": 72,
     "metadata": {},
     "output_type": "execute_result"
    }
   ],
   "source": [
    "# 4 derniers\n",
    "city1[-4:]"
   ]
  },
  {
   "cell_type": "code",
   "execution_count": 73,
   "id": "5f3077c5-ece5-4f6f-815c-81acca35fbd0",
   "metadata": {},
   "outputs": [
    {
     "data": {
      "text/plain": [
       "'ulou'"
      ]
     },
     "execution_count": 73,
     "metadata": {},
     "output_type": "execute_result"
    }
   ],
   "source": [
    "city1[2:-2]"
   ]
  },
  {
   "cell_type": "code",
   "execution_count": 74,
   "id": "02a3ae5c-3b49-4c66-b2cb-1626a33c641d",
   "metadata": {},
   "outputs": [
    {
     "data": {
      "text/plain": [
       "''"
      ]
     },
     "execution_count": 74,
     "metadata": {},
     "output_type": "execute_result"
    }
   ],
   "source": [
    "city1[9:-9]"
   ]
  },
  {
   "cell_type": "code",
   "execution_count": 75,
   "id": "e574aeb1-4fab-477c-a063-50f2d07f9532",
   "metadata": {},
   "outputs": [
    {
     "data": {
      "text/plain": [
       "[]"
      ]
     },
     "execution_count": 75,
     "metadata": {},
     "output_type": "execute_result"
    }
   ],
   "source": [
    "numbers[9:-9]"
   ]
  },
  {
   "cell_type": "code",
   "execution_count": 76,
   "id": "65d48fd1-a9f0-464d-8c20-308f285687d7",
   "metadata": {},
   "outputs": [],
   "source": [
    "##IndexError: list index out of range\n",
    "#numbers[9]"
   ]
  },
  {
   "cell_type": "code",
   "execution_count": 77,
   "id": "81aa7e17-4c79-4e07-b9ac-334ceee2108b",
   "metadata": {},
   "outputs": [
    {
     "data": {
      "text/plain": [
       "[1, 100, 6, 2]"
      ]
     },
     "execution_count": 77,
     "metadata": {},
     "output_type": "execute_result"
    }
   ],
   "source": [
    "numbers[:] # copy"
   ]
  },
  {
   "cell_type": "code",
   "execution_count": 78,
   "id": "9a2aeaa6-eabf-41dd-a0bc-9d5d6ebee85c",
   "metadata": {},
   "outputs": [
    {
     "data": {
      "text/plain": [
       "[1, 100, 6, 2, 1, 2, 4, 6, 7, 8]"
      ]
     },
     "execution_count": 78,
     "metadata": {},
     "output_type": "execute_result"
    }
   ],
   "source": [
    "numbers.extend(s)\n",
    "numbers"
   ]
  },
  {
   "cell_type": "code",
   "execution_count": 79,
   "id": "c6200a61-0e1f-4115-a594-019e3534ac95",
   "metadata": {},
   "outputs": [
    {
     "data": {
      "text/plain": [
       "[6, 1, 4]"
      ]
     },
     "execution_count": 79,
     "metadata": {},
     "output_type": "execute_result"
    }
   ],
   "source": [
    "# slice with step (3d parameter)\n",
    "numbers[2:8:2]"
   ]
  },
  {
   "cell_type": "code",
   "execution_count": 80,
   "id": "e4d3d239-b56e-406f-9367-82e6801d25a5",
   "metadata": {},
   "outputs": [
    {
     "name": "stdout",
     "output_type": "stream",
     "text": [
      "Tuos\n",
      "olue\n"
     ]
    }
   ],
   "source": [
    "# city1 = 'Toulouse'\n",
    "print(city1[::2])\n",
    "print(city1[1::2])"
   ]
  },
  {
   "cell_type": "code",
   "execution_count": 81,
   "id": "b0349d89-4ddf-4b59-a50c-b88245b78e38",
   "metadata": {},
   "outputs": [
    {
     "data": {
      "text/plain": [
       "'esuoluoT'"
      ]
     },
     "execution_count": 81,
     "metadata": {},
     "output_type": "execute_result"
    }
   ],
   "source": [
    "# reverse slice\n",
    "city1[::-1]"
   ]
  },
  {
   "cell_type": "markdown",
   "id": "476254ff-8efd-4b67-85d7-3d6e16821311",
   "metadata": {},
   "source": [
    "### Exercice slice et modification\n",
    "- supprimer les nombres de la position 1 (inclus) à 3 (exclu)\n",
    "- remplacer les nombres de la position 1 (inclus) à 3 (exclu) par 44, 55"
   ]
  },
  {
   "cell_type": "code",
   "execution_count": 83,
   "id": "0165e0dc-a941-496a-a9ff-975aa5318e11",
   "metadata": {},
   "outputs": [
    {
     "name": "stdout",
     "output_type": "stream",
     "text": [
      "[1, 100, 6, 2, 1, 2, 4, 6, 7, 8]\n",
      "[1, 2, 1, 2, 4, 6, 7, 8]\n",
      "[1, 44, 55, 2, 4, 6, 7, 8]\n",
      "[1, 66, 77, 88, 2, 4, 6, 7, 8]\n",
      "[1, 99, 88, 2, 4, 6, 7, 8]\n",
      "[1, 123, 456, 789, 99, 88, 2, 4, 6, 7, 8]\n"
     ]
    }
   ],
   "source": [
    "numbers = [1, 100, 6, 2, 1, 2, 4, 6, 7, 8]\n",
    "print(numbers)\n",
    "del numbers[1:3]\n",
    "print(numbers)\n",
    "numbers[1:3] = [44, 55]\n",
    "print(numbers)\n",
    "numbers[1:3] = [66, 77, 88]\n",
    "print(numbers)\n",
    "numbers[1:3] = [99]\n",
    "print(numbers)\n",
    "numbers[1:1] = [123, 456, 789]\n",
    "print(numbers)"
   ]
  },
  {
   "cell_type": "markdown",
   "id": "15b29d51-9497-465c-a9da-68d3dbdf62fb",
   "metadata": {},
   "source": [
    "## loop and conditional"
   ]
  },
  {
   "cell_type": "code",
   "execution_count": 85,
   "id": "fe289f41-c9dc-43b5-906e-c1964ad38ad3",
   "metadata": {},
   "outputs": [
    {
     "name": "stdout",
     "output_type": "stream",
     "text": [
      "1\n",
      "2\n",
      "\n",
      "123\n",
      "246\n",
      "\n",
      "456\n",
      "912\n",
      "\n",
      "789\n",
      "1578\n",
      "\n",
      "99\n",
      "198\n",
      "\n",
      "88\n",
      "176\n",
      "\n",
      "2\n",
      "4\n",
      "\n",
      "4\n",
      "8\n",
      "\n",
      "6\n",
      "12\n",
      "\n",
      "7\n",
      "14\n",
      "\n",
      "8\n",
      "16\n",
      "\n"
     ]
    }
   ],
   "source": [
    "for n in numbers:\n",
    "    print(n)\n",
    "    print(2*n)\n",
    "    print()"
   ]
  },
  {
   "cell_type": "code",
   "execution_count": 86,
   "id": "faba81fd-7077-42dc-b0ef-2c4d3a78f0d5",
   "metadata": {},
   "outputs": [],
   "source": [
    "# boucle sur les éléments d'un ensemble"
   ]
  },
  {
   "cell_type": "code",
   "execution_count": 87,
   "id": "5889951a-9f24-42c4-b96a-31355c10f256",
   "metadata": {},
   "outputs": [
    {
     "name": "stdout",
     "output_type": "stream",
     "text": [
      "1\n",
      "2\n",
      "4\n",
      "6\n",
      "7\n",
      "8\n"
     ]
    }
   ],
   "source": [
    "for n in s:\n",
    "    print(n)"
   ]
  },
  {
   "cell_type": "code",
   "execution_count": 88,
   "id": "2b98df38-ed68-4b8a-8906-262681d01a74",
   "metadata": {},
   "outputs": [],
   "source": [
    "# boucle sur les lettres d'un texte"
   ]
  },
  {
   "cell_type": "code",
   "execution_count": 89,
   "id": "7d1bae13-37a4-402a-89d6-3fb0d442e2d1",
   "metadata": {},
   "outputs": [
    {
     "name": "stdout",
     "output_type": "stream",
     "text": [
      "T\n",
      "o\n",
      "u\n",
      "l\n",
      "o\n",
      "u\n",
      "s\n",
      "e\n"
     ]
    }
   ],
   "source": [
    "for letter in city1:\n",
    "    print(letter)"
   ]
  },
  {
   "cell_type": "code",
   "execution_count": 90,
   "id": "370ef854-1bff-47c8-89b4-47a01cf78e34",
   "metadata": {},
   "outputs": [
    {
     "name": "stdout",
     "output_type": "stream",
     "text": [
      "0\n",
      "1\n",
      "2\n",
      "3\n",
      "4\n",
      "5\n",
      "6\n",
      "7\n",
      "8\n",
      "9\n"
     ]
    }
   ],
   "source": [
    "for i in range(10):\n",
    "    print(i)"
   ]
  },
  {
   "cell_type": "code",
   "execution_count": 91,
   "id": "017e91de-9204-41ef-8158-aeb5c9daec70",
   "metadata": {},
   "outputs": [
    {
     "name": "stdout",
     "output_type": "stream",
     "text": [
      "1\n",
      "2\n",
      "3\n",
      "4\n",
      "5\n",
      "6\n",
      "7\n",
      "8\n",
      "9\n",
      "10\n"
     ]
    }
   ],
   "source": [
    "for i in range(1, 11):\n",
    "    print(i)"
   ]
  },
  {
   "cell_type": "code",
   "execution_count": 92,
   "id": "d17edf79-ce31-4202-932c-eabbb6dcf7db",
   "metadata": {},
   "outputs": [
    {
     "name": "stdout",
     "output_type": "stream",
     "text": [
      "0\n",
      "100\n",
      "200\n",
      "300\n",
      "400\n",
      "500\n",
      "600\n",
      "700\n",
      "800\n",
      "900\n"
     ]
    }
   ],
   "source": [
    "for i in range(0, 1000, 100):\n",
    "    print(i)"
   ]
  },
  {
   "cell_type": "code",
   "execution_count": 93,
   "id": "f8752c2a-75aa-472d-baef-1db79ad2c3bb",
   "metadata": {},
   "outputs": [
    {
     "data": {
      "text/plain": [
       "\u001b[1;31mInit signature:\u001b[0m \u001b[0mrange\u001b[0m\u001b[1;33m(\u001b[0m\u001b[0mself\u001b[0m\u001b[1;33m,\u001b[0m \u001b[1;33m/\u001b[0m\u001b[1;33m,\u001b[0m \u001b[1;33m*\u001b[0m\u001b[0margs\u001b[0m\u001b[1;33m,\u001b[0m \u001b[1;33m**\u001b[0m\u001b[0mkwargs\u001b[0m\u001b[1;33m)\u001b[0m\u001b[1;33m\u001b[0m\u001b[1;33m\u001b[0m\u001b[0m\n",
       "\u001b[1;31mDocstring:\u001b[0m     \n",
       "range(stop) -> range object\n",
       "range(start, stop[, step]) -> range object\n",
       "\n",
       "Return an object that produces a sequence of integers from start (inclusive)\n",
       "to stop (exclusive) by step.  range(i, j) produces i, i+1, i+2, ..., j-1.\n",
       "start defaults to 0, and stop is omitted!  range(4) produces 0, 1, 2, 3.\n",
       "These are exactly the valid indices for a list of 4 elements.\n",
       "When step is given, it specifies the increment (or decrement).\n",
       "\u001b[1;31mType:\u001b[0m           type\n",
       "\u001b[1;31mSubclasses:\u001b[0m     "
      ]
     },
     "metadata": {},
     "output_type": "display_data"
    }
   ],
   "source": [
    "range?"
   ]
  },
  {
   "cell_type": "code",
   "execution_count": 94,
   "id": "5c1f551f-7849-4c23-be27-96dba1cc7539",
   "metadata": {},
   "outputs": [],
   "source": [
    "# Décompte 10, 9, ...., 1 , Boom!"
   ]
  },
  {
   "cell_type": "code",
   "execution_count": 95,
   "id": "a1b4034e-a6f3-4cb5-a388-f8d42b8e715f",
   "metadata": {},
   "outputs": [
    {
     "name": "stdout",
     "output_type": "stream",
     "text": [
      "10\n",
      "9\n",
      "8\n",
      "7\n",
      "6\n",
      "5\n",
      "4\n",
      "3\n",
      "2\n",
      "1\n",
      "Boom !\n"
     ]
    }
   ],
   "source": [
    "for i in range(10, 0, -1):\n",
    "    print(i)\n",
    "print('Boom !')"
   ]
  },
  {
   "cell_type": "code",
   "execution_count": 96,
   "id": "eab687e7-3741-4d6f-b553-3dbdcbd2bf0e",
   "metadata": {},
   "outputs": [
    {
     "name": "stdout",
     "output_type": "stream",
     "text": [
      "0 0\n",
      "0 1\n",
      "0 2\n",
      "1 0\n",
      "1 1\n",
      "1 2\n",
      "2 0\n",
      "2 1\n",
      "2 2\n",
      "3 0\n",
      "3 1\n",
      "3 2\n"
     ]
    }
   ],
   "source": [
    "for i in range(4):\n",
    "    for j in range(3):\n",
    "        print(i, j)"
   ]
  },
  {
   "cell_type": "code",
   "execution_count": 97,
   "id": "ed3a7199-043d-4da2-b1a3-a4ba11c24a9b",
   "metadata": {},
   "outputs": [
    {
     "name": "stdout",
     "output_type": "stream",
     "text": [
      "On bouge un peu et ça va : 14.3\n",
      "On se détend au soleil : 27.1\n",
      "On met le chauffage : -1.0\n",
      "On met le chauffage : 8.2\n",
      "On se détend au soleil : 16.5\n"
     ]
    }
   ],
   "source": [
    "for temperature in [14.3, 27.1, -1.0, 8.2, 16.5]:\n",
    "    if temperature < 10.0:\n",
    "        print('On met le chauffage :', temperature)\n",
    "    elif temperature < 15:\n",
    "        print('On bouge un peu et ça va :', temperature)\n",
    "    else:\n",
    "        print('On se détend au soleil :', temperature)"
   ]
  },
  {
   "cell_type": "code",
   "execution_count": 98,
   "id": "c9004981-c7c8-4cd5-b7d0-eccf49cae67b",
   "metadata": {},
   "outputs": [
    {
     "name": "stdout",
     "output_type": "stream",
     "text": [
      "10\n",
      "9\n",
      "8\n",
      "7\n",
      "6\n",
      "5\n",
      "4\n",
      "3\n",
      "2\n",
      "1\n",
      "Boom !\n"
     ]
    }
   ],
   "source": [
    "# NB: inplace operators +=, -=, *=, ...\n",
    "cpt = 10\n",
    "while cpt > 0:\n",
    "    print(cpt)\n",
    "    cpt -= 1\n",
    "print('Boom !')"
   ]
  },
  {
   "cell_type": "code",
   "execution_count": 99,
   "id": "bc0a8060-025f-4e23-8c48-9dc997646838",
   "metadata": {},
   "outputs": [
    {
     "name": "stdout",
     "output_type": "stream",
     "text": [
      "debug: inspect value 1\n",
      "debug: inspect value 123\n",
      "debug: inspect value 456\n",
      "debug: inspect value 789\n",
      "debug: inspect value 99\n",
      "debug: inspect value 88\n",
      "debug: inspect value 2\n",
      "debug: inspect value 4\n",
      "debug: inspect value 6\n",
      "debug: inspect value 7\n",
      "Multiple of 7 found: 7\n"
     ]
    }
   ],
   "source": [
    "for v in numbers:\n",
    "    print('debug: inspect value', v)\n",
    "    if v % 7 == 0:\n",
    "        print('Multiple of 7 found:', v)\n",
    "        break"
   ]
  },
  {
   "cell_type": "markdown",
   "id": "211042b8-356e-44a4-bf22-824692adb12a",
   "metadata": {},
   "source": [
    "### Exercice euclide"
   ]
  },
  {
   "cell_type": "code",
   "execution_count": 101,
   "id": "abf9a2ca-a014-418d-89aa-fba409ddd11c",
   "metadata": {},
   "outputs": [
    {
     "name": "stdout",
     "output_type": "stream",
     "text": [
      "gcd is 12\n"
     ]
    }
   ],
   "source": [
    "a = 36\n",
    "b = 24\n",
    "# find gcd of a and b\n",
    "while a != b:\n",
    "    if a > b:\n",
    "        a = a - b\n",
    "    else:\n",
    "        b = b - a\n",
    "print(f'gcd is {a}')"
   ]
  },
  {
   "cell_type": "markdown",
   "id": "7d70f8a2-d000-4b27-95dd-65f6b3441d01",
   "metadata": {},
   "source": [
    "## Formatted string\n",
    "https://docs.python.org/3.13/library/string.html#formatstrings"
   ]
  },
  {
   "cell_type": "code",
   "execution_count": 196,
   "id": "4d39dddf-456e-4481-95e6-98fd037bec05",
   "metadata": {},
   "outputs": [
    {
     "data": {
      "text/plain": [
       "'temperature = 16.5 ; city = Toulouse'"
      ]
     },
     "execution_count": 196,
     "metadata": {},
     "output_type": "execute_result"
    }
   ],
   "source": [
    "# concat: +\n",
    "\n",
    "#'temperature = ' + temperature + ' ; city = ' + city1\n",
    "# => TypeError: can only concatenate str (not \"float\") to str\n",
    "\n",
    "'temperature = ' + str(temperature) + ' ; city = ' + str(city1)"
   ]
  },
  {
   "cell_type": "code",
   "execution_count": 206,
   "id": "c5be4faf-c85e-4616-afe9-72d08f76714b",
   "metadata": {},
   "outputs": [
    {
     "data": {
      "text/plain": [
       "'temperature = 16.5 ; city = Toulouse'"
      ]
     },
     "execution_count": 206,
     "metadata": {},
     "output_type": "execute_result"
    }
   ],
   "source": [
    "f'temperature = {temperature} ; city = {city1}'"
   ]
  },
  {
   "cell_type": "code",
   "execution_count": 212,
   "id": "3178fc28-7152-45de-9f3e-6690c1622a0e",
   "metadata": {},
   "outputs": [
    {
     "data": {
      "text/plain": [
       "'temperature = 16.50 ; city = Toulouse'"
      ]
     },
     "execution_count": 212,
     "metadata": {},
     "output_type": "execute_result"
    }
   ],
   "source": [
    "f'temperature = {temperature:.2f} ; city = {city1}'"
   ]
  }
 ],
 "metadata": {
  "kernelspec": {
   "display_name": "Python 3 (ipykernel)",
   "language": "python",
   "name": "python3"
  },
  "language_info": {
   "codemirror_mode": {
    "name": "ipython",
    "version": 3
   },
   "file_extension": ".py",
   "mimetype": "text/x-python",
   "name": "python",
   "nbconvert_exporter": "python",
   "pygments_lexer": "ipython3",
   "version": "3.12.3"
  }
 },
 "nbformat": 4,
 "nbformat_minor": 5
}
